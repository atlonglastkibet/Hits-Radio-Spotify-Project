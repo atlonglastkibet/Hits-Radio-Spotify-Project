{
 "cells": [
  {
   "cell_type": "code",
   "execution_count": 1,
   "metadata": {},
   "outputs": [],
   "source": [
    "import pandas as pd"
   ]
  },
  {
   "cell_type": "code",
   "execution_count": 8,
   "metadata": {},
   "outputs": [],
   "source": [
    "df = pd.read_csv('/home/davidkibet/Desktop/Spotify Radio Project/reports/last_hour_tracks.csv')"
   ]
  },
  {
   "cell_type": "code",
   "execution_count": 3,
   "metadata": {},
   "outputs": [
    {
     "ename": "NameError",
     "evalue": "name 'df' is not defined",
     "output_type": "error",
     "traceback": [
      "\u001b[0;31m---------------------------------------------------------------------------\u001b[0m",
      "\u001b[0;31mNameError\u001b[0m                                 Traceback (most recent call last)",
      "Cell \u001b[0;32mIn[3], line 1\u001b[0m\n\u001b[0;32m----> 1\u001b[0m \u001b[43mdf\u001b[49m\u001b[38;5;241m.\u001b[39mhead()\n",
      "\u001b[0;31mNameError\u001b[0m: name 'df' is not defined"
     ]
    }
   ],
   "source": [
    "df.head()"
   ]
  },
  {
   "cell_type": "code",
   "execution_count": 4,
   "metadata": {},
   "outputs": [],
   "source": [
    "data = pd.read_csv('Tracklist.csv')"
   ]
  },
  {
   "cell_type": "code",
   "execution_count": 5,
   "metadata": {},
   "outputs": [
    {
     "data": {
      "application/vnd.microsoft.datawrangler.viewer.v0+json": {
       "columns": [
        {
         "name": "index",
         "rawType": "int64",
         "type": "integer"
        },
        {
         "name": "Time",
         "rawType": "object",
         "type": "string"
        },
        {
         "name": "Track Title",
         "rawType": "object",
         "type": "string"
        },
        {
         "name": "Track ID",
         "rawType": "int64",
         "type": "integer"
        }
       ],
       "conversionMethod": "pd.DataFrame",
       "ref": "cf1d78af-31eb-4fb9-a442-bfc6702e84b9",
       "rows": [
        [
         "0",
         "14:34",
         "Meek Mill - Dangerous ft. Jeremih and Pnb Rock",
         "793009351516528966"
        ],
        [
         "1",
         "14:30",
         "Kranium - Toxic",
         "594077138711369675"
        ],
        [
         "2",
         "14:27",
         "David Guetta Showtek - Bad ft.Vassy (Lyrics Video)",
         "738192056943695771"
        ],
        [
         "3",
         "14:24",
         "B Young - Ride For Me (Kranium Remix) Audio ft. Kranium",
         "611704556889475574"
        ],
        [
         "4",
         "14:18",
         "Pop Smoke - Mr. Jones (feat. Future)",
         "288289684654450409"
        ]
       ],
       "shape": {
        "columns": 3,
        "rows": 5
       }
      },
      "text/html": [
       "<div>\n",
       "<style scoped>\n",
       "    .dataframe tbody tr th:only-of-type {\n",
       "        vertical-align: middle;\n",
       "    }\n",
       "\n",
       "    .dataframe tbody tr th {\n",
       "        vertical-align: top;\n",
       "    }\n",
       "\n",
       "    .dataframe thead th {\n",
       "        text-align: right;\n",
       "    }\n",
       "</style>\n",
       "<table border=\"1\" class=\"dataframe\">\n",
       "  <thead>\n",
       "    <tr style=\"text-align: right;\">\n",
       "      <th></th>\n",
       "      <th>Time</th>\n",
       "      <th>Track Title</th>\n",
       "      <th>Track ID</th>\n",
       "    </tr>\n",
       "  </thead>\n",
       "  <tbody>\n",
       "    <tr>\n",
       "      <th>0</th>\n",
       "      <td>14:34</td>\n",
       "      <td>Meek Mill - Dangerous ft. Jeremih and Pnb Rock</td>\n",
       "      <td>793009351516528966</td>\n",
       "    </tr>\n",
       "    <tr>\n",
       "      <th>1</th>\n",
       "      <td>14:30</td>\n",
       "      <td>Kranium - Toxic</td>\n",
       "      <td>594077138711369675</td>\n",
       "    </tr>\n",
       "    <tr>\n",
       "      <th>2</th>\n",
       "      <td>14:27</td>\n",
       "      <td>David Guetta Showtek - Bad ft.Vassy (Lyrics Vi...</td>\n",
       "      <td>738192056943695771</td>\n",
       "    </tr>\n",
       "    <tr>\n",
       "      <th>3</th>\n",
       "      <td>14:24</td>\n",
       "      <td>B Young - Ride For Me (Kranium Remix) Audio ft...</td>\n",
       "      <td>611704556889475574</td>\n",
       "    </tr>\n",
       "    <tr>\n",
       "      <th>4</th>\n",
       "      <td>14:18</td>\n",
       "      <td>Pop Smoke - Mr. Jones (feat. Future)</td>\n",
       "      <td>288289684654450409</td>\n",
       "    </tr>\n",
       "  </tbody>\n",
       "</table>\n",
       "</div>"
      ],
      "text/plain": [
       "    Time                                        Track Title  \\\n",
       "0  14:34     Meek Mill - Dangerous ft. Jeremih and Pnb Rock   \n",
       "1  14:30                                    Kranium - Toxic   \n",
       "2  14:27  David Guetta Showtek - Bad ft.Vassy (Lyrics Vi...   \n",
       "3  14:24  B Young - Ride For Me (Kranium Remix) Audio ft...   \n",
       "4  14:18               Pop Smoke - Mr. Jones (feat. Future)   \n",
       "\n",
       "             Track ID  \n",
       "0  793009351516528966  \n",
       "1  594077138711369675  \n",
       "2  738192056943695771  \n",
       "3  611704556889475574  \n",
       "4  288289684654450409  "
      ]
     },
     "execution_count": 5,
     "metadata": {},
     "output_type": "execute_result"
    }
   ],
   "source": [
    "data.head()"
   ]
  },
  {
   "cell_type": "code",
   "execution_count": 6,
   "metadata": {},
   "outputs": [
    {
     "data": {
      "application/vnd.microsoft.datawrangler.viewer.v0+json": {
       "columns": [
        {
         "name": "index",
         "rawType": "int64",
         "type": "integer"
        },
        {
         "name": "Time",
         "rawType": "object",
         "type": "string"
        },
        {
         "name": "Track Title",
         "rawType": "object",
         "type": "string"
        },
        {
         "name": "Track ID",
         "rawType": "int64",
         "type": "integer"
        }
       ],
       "conversionMethod": "pd.DataFrame",
       "ref": "87404e13-2b15-4de9-b9db-f6fc39c37365",
       "rows": [
        [
         "0",
         "14:34",
         "Meek Mill - Dangerous ft. Jeremih and Pnb Rock",
         "793009351516528966"
        ],
        [
         "1",
         "14:30",
         "Kranium - Toxic",
         "594077138711369675"
        ],
        [
         "2",
         "14:27",
         "David Guetta Showtek - Bad ft.Vassy (Lyrics Video)",
         "738192056943695771"
        ],
        [
         "3",
         "14:24",
         "B Young - Ride For Me (Kranium Remix) Audio ft. Kranium",
         "611704556889475574"
        ],
        [
         "4",
         "14:18",
         "Pop Smoke - Mr. Jones (feat. Future)",
         "288289684654450409"
        ]
       ],
       "shape": {
        "columns": 3,
        "rows": 5
       }
      },
      "text/html": [
       "<div>\n",
       "<style scoped>\n",
       "    .dataframe tbody tr th:only-of-type {\n",
       "        vertical-align: middle;\n",
       "    }\n",
       "\n",
       "    .dataframe tbody tr th {\n",
       "        vertical-align: top;\n",
       "    }\n",
       "\n",
       "    .dataframe thead th {\n",
       "        text-align: right;\n",
       "    }\n",
       "</style>\n",
       "<table border=\"1\" class=\"dataframe\">\n",
       "  <thead>\n",
       "    <tr style=\"text-align: right;\">\n",
       "      <th></th>\n",
       "      <th>Time</th>\n",
       "      <th>Track Title</th>\n",
       "      <th>Track ID</th>\n",
       "    </tr>\n",
       "  </thead>\n",
       "  <tbody>\n",
       "    <tr>\n",
       "      <th>0</th>\n",
       "      <td>14:34</td>\n",
       "      <td>Meek Mill - Dangerous ft. Jeremih and Pnb Rock</td>\n",
       "      <td>793009351516528966</td>\n",
       "    </tr>\n",
       "    <tr>\n",
       "      <th>1</th>\n",
       "      <td>14:30</td>\n",
       "      <td>Kranium - Toxic</td>\n",
       "      <td>594077138711369675</td>\n",
       "    </tr>\n",
       "    <tr>\n",
       "      <th>2</th>\n",
       "      <td>14:27</td>\n",
       "      <td>David Guetta Showtek - Bad ft.Vassy (Lyrics Vi...</td>\n",
       "      <td>738192056943695771</td>\n",
       "    </tr>\n",
       "    <tr>\n",
       "      <th>3</th>\n",
       "      <td>14:24</td>\n",
       "      <td>B Young - Ride For Me (Kranium Remix) Audio ft...</td>\n",
       "      <td>611704556889475574</td>\n",
       "    </tr>\n",
       "    <tr>\n",
       "      <th>4</th>\n",
       "      <td>14:18</td>\n",
       "      <td>Pop Smoke - Mr. Jones (feat. Future)</td>\n",
       "      <td>288289684654450409</td>\n",
       "    </tr>\n",
       "  </tbody>\n",
       "</table>\n",
       "</div>"
      ],
      "text/plain": [
       "    Time                                        Track Title  \\\n",
       "0  14:34     Meek Mill - Dangerous ft. Jeremih and Pnb Rock   \n",
       "1  14:30                                    Kranium - Toxic   \n",
       "2  14:27  David Guetta Showtek - Bad ft.Vassy (Lyrics Vi...   \n",
       "3  14:24  B Young - Ride For Me (Kranium Remix) Audio ft...   \n",
       "4  14:18               Pop Smoke - Mr. Jones (feat. Future)   \n",
       "\n",
       "             Track ID  \n",
       "0  793009351516528966  \n",
       "1  594077138711369675  \n",
       "2  738192056943695771  \n",
       "3  611704556889475574  \n",
       "4  288289684654450409  "
      ]
     },
     "execution_count": 6,
     "metadata": {},
     "output_type": "execute_result"
    }
   ],
   "source": [
    "tracklist_df = pd.read_csv('reports/Tracklist_2025-01-26_15:38:17.csv')\n",
    "tracklist_df.head() "
   ]
  },
  {
   "cell_type": "code",
   "execution_count": 7,
   "metadata": {},
   "outputs": [],
   "source": [
    "df = pd.read_csv('reports/Matched_Spotify_tracks_2025-01-26_18:16:09.csv')"
   ]
  },
  {
   "cell_type": "code",
   "execution_count": 8,
   "metadata": {},
   "outputs": [
    {
     "data": {
      "text/plain": [
       "<bound method NDFrame.head of                            Spotify Query\n",
       "0   spotify:track:7ySC0IjVS1PMEdsZOvsUK2\n",
       "1   spotify:track:3cgxTwOpyqPgQbqcF41Xjw\n",
       "2   spotify:track:2D20D6gxMn8iJV4ij30DIV\n",
       "3   spotify:track:1H4yqHn9D5OZGES1Un58uW\n",
       "4   spotify:track:47FlbrwMWmaaC87mkVbwcZ\n",
       "5   spotify:track:5yuShbu70mtHXY0yLzCQLQ\n",
       "6   spotify:track:5X55V3mn3RTvHAheUtL6LR\n",
       "7   spotify:track:1rpo3F70diJXLWGVSxYn5D\n",
       "8   spotify:track:4pdPlm1uWitjLJ2Y8665Dg\n",
       "9   spotify:track:6Dae6DNW72nLZ6KGyE7aeH\n",
       "10  spotify:track:5TbYIeYkGgGtYL7sms7m9N\n",
       "11  spotify:track:13HwOA5rfBYsrWEj4fW4wy\n",
       "12  spotify:track:4oeH9c9ca6CS2xHytLLRnP\n",
       "13  spotify:track:12Fkyg9lpmaz2zmKOfw2Y2\n",
       "14  spotify:track:7dAiSwzj9FXbSHUwVaIXKE\n",
       "15  spotify:track:2B7UWqNqKgPVGQQ6FXn2PP\n",
       "16  spotify:track:5AM21uaiIxLO8UG6VhMTbe\n",
       "17  spotify:track:57Hk0AE5OhgXrPWZOhipHt\n",
       "18  spotify:track:74jnsBWP2gihjNg5v5DcI0\n",
       "19  spotify:track:7AwIbRyv3M7MV5onFj1o8H\n",
       "20  spotify:track:5XDghj1KSe2rTWnc5D6mIk\n",
       "21  spotify:track:6HQNVSUu8piRXzEGtG2OQP\n",
       "22  spotify:track:3q1d2X3jRayzKCGze8wwO2\n",
       "23  spotify:track:0puf9yIluy9W0vpMEUoAnN\n",
       "24  spotify:track:3yuIvz5stb9v9cljhZ5Zas\n",
       "25  spotify:track:7pOP4InCkJpSgDmVFzB1cr\n",
       "26  spotify:track:15ChgJwMrGNN2ZSrLJGXqY\n",
       "27  spotify:track:7xhvCzIguRfyfQyGrnWuVn\n",
       "28  spotify:track:31OUf7myzRshUdO8aQpEPH\n",
       "29  spotify:track:1GqluCmHkW69FPpe8OlnB5\n",
       "30  spotify:track:68YYKjdbD8VfGHPhXZaPsB\n",
       "31  spotify:track:0k4d5YPDr1r7FX77VdqWez\n",
       "32  spotify:track:08e0A9k3bZHg1ayABWHt6o\n",
       "33  spotify:track:2UrxkIScshPyPlgRpy57Fm\n",
       "34  spotify:track:47FlbrwMWmaaC87mkVbwcZ\n",
       "35  spotify:track:0k4d5YPDr1r7FX77VdqWez\n",
       "36  spotify:track:64sLWorIaupvXoJyyX9ND7\n",
       "37  spotify:track:31OUf7myzRshUdO8aQpEPH\n",
       "38  spotify:track:6lbhWl34Il0WXm5pX1fM9E\n",
       "39  spotify:track:0RIMrAUyLGBF7zAPdvgE73\n",
       "40  spotify:track:6bY6Rrr3enYLfJK7djbgZQ\n",
       "41  spotify:track:0S0ezG92vQDS5VbX12GC3g\n",
       "42  spotify:track:6Yao9XJedGa6cFON02GIVV\n",
       "43  spotify:track:3azJifCSqg9fRij2yKIbWz\n",
       "44  spotify:track:6QFCMUUq1T2Vf5sFUXcuQ7\n",
       "45  spotify:track:1Bjpfvw2dhivyludgB0fyt\n",
       "46  spotify:track:7ChKhsA9btouZiw6bKbWvJ\n",
       "47  spotify:track:3ScJy88F8KqGDfWu8XJhHx\n",
       "48  spotify:track:3DK1ulso7sTUuEpS10KvEy\n",
       "49  spotify:track:7MtpW10epOD3sUtURL5ZDu\n",
       "50  spotify:track:470YWWqR8RanMV6JM0cxcF\n",
       "51  spotify:track:7IPKXYU2rTMnrLW5IZ7ZI5>"
      ]
     },
     "execution_count": 8,
     "metadata": {},
     "output_type": "execute_result"
    }
   ],
   "source": [
    "df.head"
   ]
  },
  {
   "cell_type": "code",
   "execution_count": null,
   "metadata": {},
   "outputs": [],
   "source": []
  }
 ],
 "metadata": {
  "kernelspec": {
   "display_name": "Python 3",
   "language": "python",
   "name": "python3"
  },
  "language_info": {
   "codemirror_mode": {
    "name": "ipython",
    "version": 3
   },
   "file_extension": ".py",
   "mimetype": "text/x-python",
   "name": "python",
   "nbconvert_exporter": "python",
   "pygments_lexer": "ipython3",
   "version": "3.12.9"
  }
 },
 "nbformat": 4,
 "nbformat_minor": 2
}
