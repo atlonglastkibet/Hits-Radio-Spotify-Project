{
 "cells": [
  {
   "cell_type": "markdown",
   "metadata": {},
   "source": [
    "## HITS RADIO SCRAP"
   ]
  },
  {
   "cell_type": "markdown",
   "metadata": {},
   "source": [
    "- In this project, I'll be scraping Top songs on Hits Radio website: https://onlineradiobox.com/ke/hitskenya/. \n",
    "- I'll be scraping the song name, artist name then searching the songs on spotify and generating a Playlist.\n",
    "- I'll be using BeautifulSoup and requests libraries to scrape the website."
   ]
  },
  {
   "cell_type": "markdown",
   "metadata": {
    "vscode": {
     "languageId": "plaintext"
    }
   },
   "source": [
    "### Import libraries"
   ]
  },
  {
   "cell_type": "code",
   "execution_count": 12,
   "metadata": {},
   "outputs": [],
   "source": [
    "from bs4 import BeautifulSoup\n",
    "import requests as re\n",
    "import csv\n",
    "import os\n",
    "from datetime import datetime"
   ]
  },
  {
   "cell_type": "markdown",
   "metadata": {},
   "source": [
    "### Scrap website"
   ]
  },
  {
   "cell_type": "code",
   "execution_count": 2,
   "metadata": {},
   "outputs": [],
   "source": [
    "# Hits Radio Playlist URL\n",
    "url = 'https://onlineradiobox.com/ke/hitskenya/playlist/?cs=ke.xfmkenya'\n",
    "\n",
    "# Requests to fetch tge url\n",
    "html = re.get(url).text\n",
    "\n",
    "# Parse the Url to BeautifulSoup\n",
    "soup = BeautifulSoup(html, 'html.parser')"
   ]
  },
  {
   "cell_type": "markdown",
   "metadata": {},
   "source": [
    "### Find songs and time"
   ]
  },
  {
   "cell_type": "code",
   "execution_count": 3,
   "metadata": {},
   "outputs": [],
   "source": [
    "# Here I use the class name 'ajax' to find the songs\n",
    "songs = soup.find_all('a', class_='ajax')\n",
    "\n",
    "# Here I use the class name 'time--schedule' to find the time it was played\n",
    "time = soup.find_all('span', class_='time--schedule')"
   ]
  },
  {
   "cell_type": "markdown",
   "metadata": {},
   "source": [
    "### Get tracks and Get time functions "
   ]
  },
  {
   "cell_type": "code",
   "execution_count": 8,
   "metadata": {},
   "outputs": [],
   "source": [
    "# I then develop a function to get the tracks and strip the href\n",
    "def get_tracks(soup):\n",
    "    tracks = soup.find_all('a', class_='ajax', href=lambda x: x and x.startswith('/track'))\n",
    "    return tracks\n",
    "tracks = get_tracks(soup)\n",
    "\n",
    "# Function to get time\n",
    "def get_time(soup):\n",
    "    time = soup.find_all('span', class_='time--schedule')\n",
    "    return time\n",
    "time = get_time(soup)"
   ]
  },
  {
   "cell_type": "markdown",
   "metadata": {},
   "source": [
    "### Iterate though the get_tracks and get_time function to print corresponding Tracks, Time and Track ID "
   ]
  },
  {
   "cell_type": "code",
   "execution_count": 10,
   "metadata": {},
   "outputs": [
    {
     "name": "stdout",
     "output_type": "stream",
     "text": [
      "[{'Time': '14:34', 'Track Title': 'Meek Mill - Dangerous ft. Jeremih and Pnb Rock', 'Track ID': '793009351516528966'}, {'Time': '14:30', 'Track Title': 'Kranium - Toxic', 'Track ID': '594077138711369675'}, {'Time': '14:27', 'Track Title': 'David Guetta Showtek - Bad ft.Vassy (Lyrics Video)', 'Track ID': '738192056943695771'}, {'Time': '14:24', 'Track Title': 'B Young - Ride For Me (Kranium Remix) Audio ft. Kranium', 'Track ID': '611704556889475574'}, {'Time': '14:18', 'Track Title': 'Pop Smoke - Mr. Jones (feat. Future)', 'Track ID': '288289684654450409'}, {'Time': '14:15', 'Track Title': 'Dexta Daps - Wifi (TTRR )', 'Track ID': '432422557519354042'}, {'Time': '14:11', 'Track Title': 'Fiokee Ft. Chike Gyakie – Follow You (Audio)', 'Track ID': '288359561722720719'}, {'Time': '14:08', 'Track Title': 'Stefflon Don - Like That (Official Visualizer)', 'Track ID': '2124914114192828144'}, {'Time': '14:05', 'Track Title': 'CKay - Emiliana (TONY B Remix)', 'Track ID': '738192442654870462'}, {'Time': '14:05', 'Track Title': 'ArrDee - Come Go', 'Track ID': '971992614525209024'}, {'Time': '14:01', 'Track Title': 'DJ Snake Selena Gomez - Selfish Love (Lyrics )', 'Track ID': '1891131433735687053'}, {'Time': '13:58', 'Track Title': 'Missy Elliott - Get Ur Freak On (Mastiksoul Chuckie Bootleg)', 'Track ID': '1746998493749905637'}, {'Time': '13:55', 'Track Title': 'Nviiri The Storyteller x Bensoul - Whine', 'Track ID': '107301502865737621'}, {'Time': '13:53', 'Track Title': 'Tyla Yaweh - All The Smoke (Clean Lyrics) ft. Gunna Wiz Khalifa', 'Track ID': '504585689927075872'}, {'Time': '13:50', 'Track Title': 'Ella Henderson x Tom Grennan - Let s Go Home Together (Lyrics)', 'Track ID': '971992402980505905'}, {'Time': '13:46', 'Track Title': 'Ruger Midas The Jagaban - Bounce (UK Remix - Visualiser)', 'Track ID': '467589331490212822'}, {'Time': '13:43', 'Track Title': 'BURUKLYN BOYZ - NAIROBI', 'Track ID': '1297219275135414366'}, {'Time': '13:39', 'Track Title': 'Kris Kross Amsterdam - Early In The Morning ft. Shaggy Conor Maynard', 'Track ID': '2017707223863844793'}, {'Time': '13:36', 'Track Title': 'Cathy Matete x Perfect Giddimani - Don’t Cry', 'Track ID': '323474312519658292'}, {'Time': '13:33', 'Track Title': 'DJ Snake Ozuna Megan Thee Stallion LISA of BLACKPINK - SG.wav', 'Track ID': '89691660975184574'}, {'Time': '13:30', 'Track Title': 'Stefflon Don Lil Baby - Phone Down (Vin Jay Ace Remix Audio)', 'Track ID': '1513567712247687084'}, {'Time': '13:27', 'Track Title': 'Juno Kizigenza - Nazubaye (Audio)', 'Track ID': '1620510846281812795'}, {'Time': '13:23', 'Track Title': 'Dj Rebel Mohombi Shaggy - let me love you (hq)', 'Track ID': '648577127457533242'}, {'Time': '13:20', 'Track Title': 'Adekunle Gold - Mercy', 'Track ID': '2124914104536624216'}, {'Time': '13:16', 'Track Title': 'MAGGIE WA NYUMBANI - NDOVU KUU X BIEN THE BALDMAN', 'Track ID': '161731742428978777'}, {'Time': '13:13', 'Track Title': 'Major Lazer feat. French Montana BEAM - Bam Bam', 'Track ID': '467624469861926150'}, {'Time': '13:10', 'Track Title': 'Major Lazer - C est Cuit (feat. Aya Nakamura Swae Lee)', 'Track ID': '738209940860823708'}, {'Time': '13:07', 'Track Title': 'Rihanna - Kiss It Better (Amapiano remix)', 'Track ID': '2161822167236429448'}, {'Time': '13:04', 'Track Title': 'Tems - Replay (Audio)', 'Track ID': '827912551099192768'}, {'Time': '13:04', 'Track Title': 'FIREBOY DML PERU ( VISUALIZER )', 'Track ID': '1332315694376141878'}, {'Time': '12:59', 'Track Title': 'Alok feat. John Martin - Wherever You Go', 'Track ID': '1008830610215409002'}, {'Time': '12:56', 'Track Title': 'Gunna - Gunna Future - pushin P (ft. Young Thug)', 'Track ID': '1530861170816222150'}, {'Time': '12:54', 'Track Title': 'Black Eyed Peas Saweetie Lele Pons - HIT IT', 'Track ID': '899934946320974537'}, {'Time': '12:50', 'Track Title': 'Loski ft. Popcaan - Avengers', 'Track ID': '305864311689206655'}, {'Time': '12:48', 'Track Title': 'Drake - Lemon Pepper Freestyle', 'Track ID': '1260240454360994984'}, {'Time': '12:44', 'Track Title': 'Scribz Riley - Mandy (Lyrics)', 'Track ID': '1404373206421613044'}, {'Time': '12:44', 'Track Title': 'Justin Bieber - Honest feat. Don Toliver', 'Track ID': '1764626168903564214'}, {'Time': '12:41', 'Track Title': 'Romain Virgo - Good Woman', 'Track ID': '164376913371732'}, {'Time': '12:41', 'Track Title': 'Deno - Lingo ft. J.I Chunkz', 'Track ID': '1044085278212539390'}, {'Time': '12:34', 'Track Title': 'CLEAN Pop Smoke - Mood Swings (feat. Lil Tjay)', 'Track ID': '1747016170888142483'}, {'Time': '12:31', 'Track Title': 'Becky G Burna Boy - Rotate (Audio)', 'Track ID': '216249764667905610'}, {'Time': '12:28', 'Track Title': 'Ric Hassani - Here ft. Reekado Banks', 'Track ID': '755819730946181855'}, {'Time': '12:25', 'Track Title': 'Justin Bieber - Justin Bieber - Peaches ft. Daniel Caesar Giveon', 'Track ID': '1225073683077330439'}, {'Time': '12:22', 'Track Title': 'Dua Lipa - We re Good', 'Track ID': '1891131419690553690'}, {'Time': '12:22', 'Track Title': 'Ali Gatie - What If I Told You That I Love You (Lyrics)', 'Track ID': '1585343909138889425'}, {'Time': '12:18', 'Track Title': 'Smallgod Ft Tiwa Savage Kwesi Arthur - Let Dem Kno', 'Track ID': '1548453276358880072'}, {'Time': '12:15', 'Track Title': 'J Hus - Did You See', 'Track ID': '216196587956105108'}, {'Time': '12:12', 'Track Title': 'Halsey - So Good (Audio)', 'Track ID': '1441528096441304676'}, {'Time': '12:09', 'Track Title': 'Bad Bunny x Jhay Cortez - Dákiti', 'Track ID': '738192288744399636'}, {'Time': '12:06', 'Track Title': 'B Young ft. Tayc - So Distant', 'Track ID': '2196971666822775927'}, {'Time': '12:03', 'Track Title': 'Omah Lay - soso', 'Track ID': '971992662531439878'}, {'Time': '12:00', 'Track Title': 'Rema - Soundgasm (MAX WALLIN TOUCH)', 'Track ID': '1729424187542879007'}, {'Time': '11:57', 'Track Title': 'M.anifest - Game Over ft. Adekunle Gold', 'Track ID': '1513268976329909555'}, {'Time': '11:54', 'Track Title': 'The Chainsmokers - High', 'Track ID': '810250043558758350'}, {'Time': '11:51', 'Track Title': 'Will Smith DJ Jazzy Jeff - The Fresh Prince of Bel Air (Tall Small Bootleg)', 'Track ID': '1657436234441869016'}, {'Time': '11:46', 'Track Title': 'Skillibeng x Mura Masa - Blessing Me (Ft. Pa Salieu)', 'Track ID': '810267679555457427'}, {'Time': '11:43', 'Track Title': '1Da Banton - Summer Love (Lyrics Video)', 'Track ID': '1098480463726413727'}, {'Time': '11:40', 'Track Title': 'Post Malone ft Roddy Ricch - Cooped Up', 'Track ID': '594094702072306083'}, {'Time': '11:37', 'Track Title': 'Dj Neptune ft Mr Eazi & Konshens - Dj Neptune ft Mr Eazi & Konshens – WALANGOLO', 'Track ID': '899952625629130328'}, {'Time': '11:33', 'Track Title': 'Mayorkun - Certified Loner (No Competition)', 'Track ID': '449979715406111499'}, {'Time': '11:31', 'Track Title': 'Bruce Melodie - Katerina (LyricsLyrics Video)', 'Track ID': '2233879812607675868'}, {'Time': '11:28', 'Track Title': 'Cadet x Deno - Advice (Dele Alli) GRM Daily', 'Track ID': '738192164083210621'}, {'Time': '11:25', 'Track Title': 'Majid Jordan - Waves of Blue', 'Track ID': '2197041965728174629'}, {'Time': '11:22', 'Track Title': 'Muni Long - Baby Boo feat. Saweetie', 'Track ID': '1242630839462710319'}, {'Time': '11:19', 'Track Title': 'Darkoo - Rover (Keys to my rover)', 'Track ID': '1404337881203476442'}, {'Time': '11:15', 'Track Title': 'Boj - Awolowo Ft. Wizkid DarkoVibes (Visualiser)', 'Track ID': '1836683763546270630'}, {'Time': '11:12', 'Track Title': 'Lil Baby - Lil Baby - On Me (Remix) (with Megan Thee Stallion)', 'Track ID': '1170555472874663532'}, {'Time': '11:07', 'Track Title': 'Blaq Diamond - SummerYoMuthi', 'Track ID': '233789136301771862'}, {'Time': '11:03', 'Track Title': 'Mahalia - Jealous (feat. Rico Nasty)', 'Track ID': '504480136269120943'}, {'Time': '10:59', 'Track Title': 'Yemi Alade - Temptation (Audio) ft. Patoranking', 'Track ID': '1297113639457012116'}, {'Time': '10:57', 'Track Title': 'Jason Derulo - Lifestyle (feat. Adam Levine) Official Dance Video', 'Track ID': '2179344198178146616'}, {'Time': '10:54', 'Track Title': 'Azawi - Party Mood', 'Track ID': '1026422809628104672'}, {'Time': '10:51', 'Track Title': 'KHALIGRAPH JONES - CHAMPEZ', 'Track ID': '1764626089163485469'}, {'Time': '10:49', 'Track Title': 'Ariana Grande - 34 35 (Onderkoffer Remix)', 'Track ID': '377904345929313862'}, {'Time': '10:44', 'Track Title': 'One Acen - Monogram ft. Wauve', 'Track ID': '1441228879897058741'}, {'Time': '10:41', 'Track Title': 'Aitch Ashanti - Baby', 'Track ID': '72134621923190927'}, {'Time': '10:37', 'Track Title': 'SAVARA - Vibration ft Karun', 'Track ID': '539647088645281126'}, {'Time': '10:35', 'Track Title': 'Clean Bandit and Mabel - Tick Tock (feat. 24kGoldn)', 'Track ID': '1602900985190016573'}, {'Time': '10:32', 'Track Title': 'Blanco x NSG - Surveillance GRM Daily', 'Track ID': '1098480354851056422'}, {'Time': '10:27', 'Track Title': 'Ariana Grande - positions', 'Track ID': '1008900859142011232'}, {'Time': '10:24', 'Track Title': 'Tiësto Ty Dolla $ign - The Business Pt. II', 'Track ID': '1314670663509860340'}, {'Time': '10:21', 'Track Title': 'Magixx - All Over', 'Track ID': '611704695247660472'}, {'Time': '10:18', 'Track Title': 'Falz Kamo Mphela Mpura - Squander (Remix) ft. Sayfar', 'Track ID': '1819056258839334610'}, {'Time': '10:14', 'Track Title': 'Meghan Trainor - Im a Lady (from SMURFS THE LOST VILLAGE)', 'Track ID': '234794186456505'}, {'Time': '10:11', 'Track Title': 'Better Late Than Never-', 'Track ID': '1009041137293640666'}, {'Time': '10:07', 'Track Title': 'Sauti Sol - Rhumba Japani ft Kaskazini Bensoul Nviiri Xenia Manasseh Okello Max Nairobi Ho', 'Track ID': '1602900993913347031'}, {'Time': '10:04', 'Track Title': 'Ally Brooke - Lips Don t Lie (feat. A Boogie Wit Da Hoodie) (R3HAB Remix)', 'Track ID': '161766550010927911'}, {'Time': '10:02', 'Track Title': 'Yxng Bane - Maximum (Remix) feat. K27', 'Track ID': '161731547182897310'}, {'Time': '10:01', 'Track Title': 'A Boogie wit da Hoodie - Playa feat. H.E.R.', 'Track ID': '1441211410972745899'}, {'Time': '09:59', 'Track Title': 'Not3s - Middle Of The Night', 'Track ID': '1116107799424933510'}, {'Time': '09:55', 'Track Title': 'Doja Cat - Kiss Me More ft. SZA', 'Track ID': '1044050092266303947'}, {'Time': '09:52', 'Track Title': 'City Girls Fivio Foreign - Top Notch', 'Track ID': '2017707347510678428'}, {'Time': '09:50', 'Track Title': 'Crayon - Ijo (Laba Laba) Prod. by Sarz', 'Track ID': '827912656836869192'}, {'Time': '09:46', 'Track Title': 'WizKid - Essence (Audio) ft. Tems', 'Track ID': '467624467706850916'}, {'Time': '09:43', 'Track Title': 'KYLE - Optimistic (feat Dougie F)', 'Track ID': '1620510901518302452'}, {'Time': '09:40', 'Track Title': 'Oxlade - Ojuju', 'Track ID': '323474196019600280'}, {'Time': '09:40', 'Track Title': '21 Savage Metro Boomin - Runnin (Clean - Lyrics)', 'Track ID': '1746998679007075883'}, {'Time': '09:37', 'Track Title': 'Doja Cat - Woman', 'Track ID': '1873556793272973589'}, {'Time': '09:34', 'Track Title': 'Steel Banglez - Steel Banglez Fashion Week feat. AJ Tracey MoStack', 'Track ID': '1170572833495223199'}, {'Time': '09:29', 'Track Title': 'Yxng Bane ft. WSTRN - Fine Wine (Remix) GRM Daily', 'Track ID': '899934666598389685'}, {'Time': '09:26', 'Track Title': 'T-Pain & Kehlani - I Like Dat', 'Track ID': '233789201325125099'}, {'Time': '09:24', 'Track Title': 'MIST feat Burna Boy - Rollin', 'Track ID': '1980834027270609897'}, {'Time': '08:58', 'Track Title': 'Blueface Blxst - Chose Me', 'Track ID': '1297430446283151065'}, {'Time': '08:55', 'Track Title': 'Dave Stormzy - Clash', 'Track ID': '1945737621074297053'}, {'Time': '08:51', 'Track Title': 'Barnaba feat Diamond Platnumz - Hadithi', 'Track ID': '864768042706510405'}, {'Time': '08:49', 'Track Title': 'Austin Millz - Always Be Remix', 'Track ID': '864768350222180849'}, {'Time': '08:45', 'Track Title': 'Mary-J-Blige- Without You (Wallies Amapiano Remix)', 'Track ID': '94441134465316'}, {'Time': '08:45', 'Track Title': 'Black Sherif - Kwaku The Traveller (Radio Clean)', 'Track ID': '1513251417634161738'}, {'Time': '08:42', 'Track Title': 'Tory Lanez - It Doesn t Matter', 'Track ID': '233789331274810305'}, {'Time': '08:39', 'Track Title': 'Justin Bieber - Red Eye (Visualizer) ft. TroyBoi', 'Track ID': '305864438147138645'}, {'Time': '08:32', 'Track Title': 'Chunkz X Filly - Hold', 'Track ID': '899934842125741527'}, {'Time': '08:28', 'Track Title': 'Chris Brown - Don t Check On Me (Audio) ft. Justin Bieber Ink', 'Track ID': '1801516617774150455'}, {'Time': '08:24', 'Track Title': 'Lojay x Sarz - LV N ATTN ft. Wizkid', 'Track ID': '738227551449532586'}, {'Time': '08:21', 'Track Title': 'Calvin Harris Dua Lipa Young Thug - Potion', 'Track ID': '1746998808420683773'}, {'Time': '08:19', 'Track Title': 'OneRepublic - Sunshine', 'Track ID': '738191861748905677'}, {'Time': '08:15', 'Track Title': 'Headie One - Everything Nice (feat. Haile) G46 GRIME', 'Track ID': '467589369385754801'}, {'Time': '08:12', 'Track Title': 'Roddy Ricch Bacc Seat feat Ty Dolla $ign Clean', 'Track ID': '594076986769262272'}, {'Time': '08:10', 'Track Title': 'Joeboy - Contour (Lyric Visualizer)', 'Track ID': '2269029366337962777'}, {'Time': '08:03', 'Track Title': 'Bayanni - Ta Ta Ta (Official Lyric Audio)', 'Track ID': '1332315832514073544'}, {'Time': '08:00', 'Track Title': 'Dave - Location (ft. Burna Boy)', 'Track ID': '1404372979520934454'}, {'Time': '07:56', 'Track Title': 'Krept Konan - G Love ft. WizKid', 'Track ID': '2052856218139606791'}, {'Time': '07:53', 'Track Title': 'Post Malone - Motley Crew', 'Track ID': '576572964710311335'}, {'Time': '07:50', 'Track Title': 'MAANDY X BREEDER LW X NDOVU KUU - Sirudi Home Remix', 'Track ID': '1620545988943152047'}, {'Time': '07:46', 'Track Title': 'Young T Bugsey - Nice ft. Blxst', 'Track ID': '1963171567013102855'}, {'Time': '07:43', 'Track Title': '24kGoldn - Coco (Clean Lyrics) ft. DaBaby', 'Track ID': '377921972735235795'}, {'Time': '07:39', 'Track Title': 'Oxlade - KU LO SA A COLORS SHOW', 'Track ID': '1297131434135397321'}, {'Time': '07:36', 'Track Title': 'Major League Djz x Mathandos x Nvcho ft C4 Djs - BAKWA LAH', 'Track ID': '1098480266046170810'}, {'Time': '07:33', 'Track Title': 'Yellow Claw - Baila Conmigo', 'Track ID': '1386728073994637716'}, {'Time': '07:30', 'Track Title': 'Hardy Caprio - Under The Sun (Lyrics) feat. T Mulla', 'Track ID': '1116107847595107058'}, {'Time': '06:29', 'Track Title': 'Timaya ft. Buju – Cold Outside', 'Track ID': '954365142434228702'}, {'Time': '06:26', 'Track Title': 'VICTONY - PRAY )', 'Track ID': '1297113730004697619'}, {'Time': '06:24', 'Track Title': 'Tion Wayne M24 - Knock Knock', 'Track ID': '467589451326955228'}, {'Time': '06:19', 'Track Title': 'Robinson Jason Derulo - Ayo Girl (Fayahh Beat) ft. Rema', 'Track ID': '1188218178012727521'}, {'Time': '06:16', 'Track Title': 'NSG - Petite', 'Track ID': '1404338106904874666'}, {'Time': '06:13', 'Track Title': 'Sauti Sol - Nenda Lote SMS Skiza 9935647 to 811', 'Track ID': '1980798758327937719'}, {'Time': '06:10', 'Track Title': 'Wale - Angles (feat. Chris Brown)', 'Track ID': '1008882804806885587'}, {'Time': '06:06', 'Track Title': 'Imanse - Never in My Life (NIML)', 'Track ID': '1242595699006249637'}, {'Time': '06:03', 'Track Title': 'POP SMOKE - FLEXING', 'Track ID': '1260257912930194509'}, {'Time': '06:01', 'Track Title': 'Rotimi - Fiction (Audio) (feat. Busy Signal)', 'Track ID': '1674941276620580791'}, {'Time': '05:56', 'Track Title': 'Blxst - Chosen ft. Ty Dolla $ign Tyga', 'Track ID': '89709145752059994'}, {'Time': '05:53', 'Track Title': 'Ric Hassani - Angel ft. Nicky Jam (Animation)', 'Track ID': '1819073833811123021'}, {'Time': '05:49', 'Track Title': 'Mayorkun Victony - Holy Father', 'Track ID': '395531854171139733'}, {'Time': '05:46', 'Track Title': 'YA LEVIS - Nakati (Clip Officiel)', 'Track ID': '738192318286724680'}, {'Time': '05:43', 'Track Title': 'Wauve - Monzo ft. One Acen', 'Track ID': '1980798877648308356'}, {'Time': '05:40', 'Track Title': 'Jaz Elise - Radio (Audio)', 'Track ID': '2089852784737314841'}, {'Time': '05:37', 'Track Title': 'Polo G Nicki Minaj - For the Love of New York (1)', 'Track ID': '2269081990159952491'}, {'Time': '05:34', 'Track Title': 'Kelly Rowland - Need A Reason (Vin Jay Ace Remix Audio)', 'Track ID': '594076988712000665'}, {'Time': '05:32', 'Track Title': 'Ty Dolla $ign Ft. J Balvin YG Tyga Post Malone - Spicy Remix', 'Track ID': '2269046761004438854'}, {'Time': '05:27', 'Track Title': 'Adekunle Gold - Okay (Afro Pop Vol. 1)', 'Track ID': '2161857512078794801'}, {'Time': '05:23', 'Track Title': 'Oxlade - Hold On (Visualizer)', 'Track ID': '792728007575131387'}, {'Time': '05:20', 'Track Title': 'Travis Scott HVME - Goosebumps (Remix -', 'Track ID': '2233862367879058515'}, {'Time': '05:17', 'Track Title': 'Niall Horan - No Judgement (Alternate Video)', 'Track ID': '1297166314022132525'}, {'Time': '05:15', 'Track Title': 'NSG Ft. LD - Roadblock', 'Track ID': '35243914392981027'}, {'Time': '05:11', 'Track Title': 'Martin Jensen Alle Farben Nico Santos - Running Back To You', 'Track ID': '2035229137572681321'}, {'Time': '05:09', 'Track Title': 'Kizz Daniel - Lie (Audio)(1)', 'Track ID': '251416603373925238'}, {'Time': '05:05', 'Track Title': 'The Kid LAROI Justin Bieber - Stay', 'Track ID': '2161910364355139336'}, {'Time': '05:02', 'Track Title': 'Kanye West - Stronger (Jurri Tony x MATTIA Bootleg)', 'Track ID': '1729476330682995653'}, {'Time': '04:58', 'Track Title': 'CNCO - Dejaría Todo', 'Track ID': '17616384369459809'}, {'Time': '04:56', 'Track Title': 'Boy Spyce - Bad Things (Official Lyric Audio)', 'Track ID': '179359099490501467'}, {'Time': '04:53', 'Track Title': 'Lil Baby amp Gunna - Drip Too Hard', 'Track ID': '1458785638442409906'}, {'Time': '04:50', 'Track Title': 'Triggah Mehn - La Vida Loca', 'Track ID': '1585326682013419961'}, {'Time': '04:46', 'Track Title': 'Diane Warren Rita Ora Sofía Reyes Reik - Seaside', 'Track ID': '2035246685143211178'}, {'Time': '04:41', 'Track Title': 'Arman Cekin Faydee - Better Days (Lyrics) ft. Karra', 'Track ID': '720652756485487333'}, {'Time': '04:38', 'Track Title': 'You re the One', 'Track ID': '1314652632360178222'}, {'Time': '04:32', 'Track Title': 'Ycee - Nu Riddim (Lyrics Video)', 'Track ID': '504480136836386316'}, {'Time': '04:29', 'Track Title': 'Fave - Beautifully', 'Track ID': '1458803486281516791'}, {'Time': '04:27', 'Track Title': 'Chlöe - Have Mercy.wav', 'Track ID': '467589401775863898'}, {'Time': '04:24', 'Track Title': 'Maud Elka - Comme Toi (Clip Officiel)', 'Track ID': '1908741261837651552'}, {'Time': '04:21', 'Track Title': 'ArrDee Aitch - War', 'Track ID': '1513304172178560096'}, {'Time': '04:17', 'Track Title': 'Cuppy - Feel Good ft. Fireboy DML', 'Track ID': '1674940987660964389'}, {'Time': '04:14', 'Track Title': 'CLEAN Jack Harlow - Nail Tech', 'Track ID': '2269046893860848618'}, {'Time': '04:11', 'Track Title': 'Khalid - New Normal', 'Track ID': '1476395693137842068'}, {'Time': '04:11', 'Track Title': 'Pop Smoke - What You Know Bout Love (DERO Edit)', 'Track ID': '360364899391798671'}, {'Time': '04:09', 'Track Title': 'K.O - SETE ft. Young Stunna Blxckie', 'Track ID': '2089764992175919421'}, {'Time': '04:09', 'Track Title': 'Fredo - Ready Ft. Summer Walker (audio)', 'Track ID': '882325104971469617'}, {'Time': '04:08', 'Track Title': 'DaBaby - Suge', 'Track ID': '1386728014385058334'}, {'Time': '04:05', 'Track Title': 'Blaq Diamond - SummerYoMuthi', 'Track ID': '233789136301771862'}, {'Time': '04:02', 'Track Title': 'Shakka - Doin Time ft. Imani', 'Track ID': '648630595257157098'}, {'Time': '03:59', 'Track Title': 'Ayra Starr - Bloody Samaritan Dir. by Ayra Starr', 'Track ID': '1242595307597507113'}, {'Time': '03:56', 'Track Title': 'Chop Daily x Eugy - My Touch', 'Track ID': '1513550318117973085'}, {'Time': '03:54', 'Track Title': 'Fave - Mr Man (Audio)', 'Track ID': '611704633297286637'}, {'Time': '03:51', 'Track Title': 'D-Block Europe - Ferrari Horses ft. Raye', 'Track ID': '810267521133078020'}, {'Time': '03:48', 'Track Title': 'Official Clean DJ Khaled - EVERY CHANCE I GET (feat. Lil Baby Lil Durk)', 'Track ID': '360400158064801252'}, {'Time': '03:44', 'Track Title': 'BackRoad Gee - Nyege Lewa Ft. Ms Banks', 'Track ID': '2124914094250016190'}, {'Time': '03:41', 'Track Title': 'Oxlade - O2 ( Oxygene)', 'Track ID': '305846658424675240'}, {'Time': '03:38', 'Track Title': 'Cheat Codes - Do It All Over (feat. Marc E. Bassy)', 'Track ID': '1152998456193454283'}, {'Time': '03:35', 'Track Title': 'Aystar - Get In That Jeep Ft. Digga D Scousematic 3', 'Track ID': '738209908416981793'}, {'Time': '03:32', 'Track Title': 'benny blanco Marshmello Vance Joy - You (Official Visualizer)', 'Track ID': '1188165312557624721'}, {'Time': '03:29', 'Track Title': 'Tion Wayne x Russ Millions - Body 2 ft Arrdee 3x3E1 ZT Bugzy Malone Fivio Foreign Darkoo', 'Track ID': '1963189055843592338'}, {'Time': '03:27', 'Track Title': 'Yxng Bane x Nafe Smallz x M Huncho- Dancing On Ice GRM Daily', 'Track ID': '395531724633030327'}, {'Time': '03:23', 'Track Title': 'King Promise ft. Headie One - Ring My Line', 'Track ID': '1369188923702462774'}, {'Time': '03:19', 'Track Title': 'J.Derobie Gold Up - Day Night Official Lyrics Video', 'Track ID': '1332280454922988574'}, {'Time': '03:16', 'Track Title': 'Don t Clean - Bryson Tiller', 'Track ID': '666134831798028050'}, {'Time': '03:12', 'Track Title': 'Reekado Banks - Ozumba Mbadiwe', 'Track ID': '305882035352020115'}, {'Time': '03:08', 'Track Title': 'Xenia Manasseh - Lowkey', 'Track ID': '1530825802062537237'}, {'Time': '03:05', 'Track Title': 'Katy Perry - Electric', 'Track ID': '2089711798305888194'}, {'Time': '03:05', 'Track Title': 'Konshens X Davido-Boom Bang', 'Track ID': '1513286500857768757'}, {'Time': '02:28', 'Track Title': 'Maroon 5 - Beautiful Mistakes ft. Megan Thee Stallion', 'Track ID': '216284949413964196'}, {'Time': '02:23', 'Track Title': 'Mabel 24kGoldn - Overthinking', 'Track ID': '251416701459708205'}, {'Time': '02:23', 'Track Title': 'Galantis x Throttle - Tell Me You Love Me', 'Track ID': '1170537471180084891'}, {'Time': '02:23', 'Track Title': 'Oxlade - Hold On (Visualizer)', 'Track ID': '792728007575131387'}, {'Time': '02:20', 'Track Title': 'Smallgod Ft Tiwa Savage Kwesi Arthur - Let Dem Kno', 'Track ID': '1548453276358880072'}, {'Time': '02:16', 'Track Title': 'Tyla Yaweh - All The Smoke (Clean Lyrics) ft. Gunna Wiz Khalifa', 'Track ID': '504585689927075872'}, {'Time': '02:13', 'Track Title': 'Don t Clean - Bryson Tiller', 'Track ID': '666134831798028050'}, {'Time': '02:10', 'Track Title': 'Robin Schulz feat. KIDDO - All We Got', 'Track ID': '1009147133195343594'}, {'Time': '02:07', 'Track Title': 'Karun - Clout Chaser', 'Track ID': '1945649813242983229'}, {'Time': '02:04', 'Track Title': 'M.anifest - Game Over ft. Adekunle Gold', 'Track ID': '1513268976329909555'}, {'Time': '02:00', 'Track Title': 'Wizkid ft Buju - Mood', 'Track ID': '360452986758954550'}, {'Time': '01:57', 'Track Title': 'The Kid LAROI Justin Bieber - Stay', 'Track ID': '2161910364355139336'}, {'Time': '01:54', 'Track Title': 'Sorana David Guetta - redruM', 'Track ID': '1819073949860878046'}, {'Time': '01:51', 'Track Title': 'ArrDee Aitch - War', 'Track ID': '1513304172178560096'}, {'Time': '01:48', 'Track Title': 'CLEAN Gunna - pushin P (feat. Future Young Thug)', 'Track ID': '1530861170816222150'}, {'Time': '01:45', 'Track Title': 'KYLE - Optimistic (feat Dougie F)', 'Track ID': '1620510901518302452'}, {'Time': '01:40', 'Track Title': 'Chiké - Hard to Find ft. Flavour', 'Track ID': '2107286797100599156'}, {'Time': '01:37', 'Track Title': 'Birdman Roddy Ricch - STUNNAMAN (feat. Lil Wayne)', 'Track ID': '1819056271268971404'}, {'Time': '01:34', 'Track Title': 'Fireboy DML Asake - Bandana', 'Track ID': '1620511007992505384'}, {'Time': '01:31', 'Track Title': 'Raphael Lake Eric Brooks Camden Rose - In My Atmosphere (Virgin River OST)', 'Track ID': '2268993853124465206'}, {'Time': '01:27', 'Track Title': 'Kizz Daniel - Pour Me Water', 'Track ID': '666134364759668160'}, {'Time': '01:24', 'Track Title': 'Diamond Platnumz ft Focalistic Costa Titch Pabi Cooper - Fresh (', 'Track ID': '2269029313849538892'}]\n"
     ]
    }
   ],
   "source": [
    "# Create an empty list to store track details\n",
    "track_list = []\n",
    "\n",
    "# Loop through each track and its corresponding time\n",
    "for track, t in zip(get_tracks(soup), get_time(soup)):  # Zip combines the track and t(time) elements pairwise\n",
    "    track_title = track.text.strip()  # Extract track title\n",
    "    track_href = track.get('href')  # Extract the href link\n",
    "    track_id = track_href.split('/track/')[-1].strip('/')  # Extract track ID\n",
    "    time = t.text.strip()  # Extract time\n",
    "\n",
    "    # Store details in a dictionary and append to list\n",
    "    track_list.append({\n",
    "        \"Time\": time,\n",
    "        \"Track Title\": track_title,\n",
    "        \"Track ID\": track_id\n",
    "    })\n",
    "\n",
    "# Print the stored list (optional)\n",
    "print(track_list)"
   ]
  },
  {
   "cell_type": "code",
   "execution_count": 80,
   "metadata": {},
   "outputs": [
    {
     "name": "stdout",
     "output_type": "stream",
     "text": [
      "{'Time': 'Live', 'Track Title': 'You re the One', 'Track ID': '1314652632360178222'}\n",
      "{'Time': '03:41', 'Track Title': 'Ycee - Nu Riddim (Lyrics Video)', 'Track ID': '504480136836386316'}\n",
      "{'Time': '03:38', 'Track Title': 'Fave - Beautifully', 'Track ID': '1458803486281516791'}\n",
      "{'Time': '03:35', 'Track Title': 'Chlöe - Have Mercy.wav', 'Track ID': '467589401775863898'}\n",
      "{'Time': '03:32', 'Track Title': 'Maud Elka - Comme Toi (Clip Officiel)', 'Track ID': '1908741261837651552'}\n",
      "{'Time': '03:29', 'Track Title': 'ArrDee Aitch - War', 'Track ID': '1513304172178560096'}\n",
      "{'Time': '03:27', 'Track Title': 'Cuppy - Feel Good ft. Fireboy DML', 'Track ID': '1674940987660964389'}\n",
      "{'Time': '03:23', 'Track Title': 'CLEAN Jack Harlow - Nail Tech', 'Track ID': '2269046893860848618'}\n",
      "{'Time': '03:19', 'Track Title': 'Khalid - New Normal', 'Track ID': '1476395693137842068'}\n",
      "{'Time': '03:16', 'Track Title': 'Pop Smoke - What You Know Bout Love (DERO Edit)', 'Track ID': '360364899391798671'}\n",
      "{'Time': '03:12', 'Track Title': 'K.O - SETE ft. Young Stunna Blxckie', 'Track ID': '2089764992175919421'}\n",
      "{'Time': '03:08', 'Track Title': 'Fredo - Ready Ft. Summer Walker (audio)', 'Track ID': '882325104971469617'}\n",
      "{'Time': '03:05', 'Track Title': 'DaBaby - Suge', 'Track ID': '1386728014385058334'}\n",
      "{'Time': '03:05', 'Track Title': 'Blaq Diamond - SummerYoMuthi', 'Track ID': '233789136301771862'}\n",
      "{'Time': '02:28', 'Track Title': 'Shakka - Doin Time ft. Imani', 'Track ID': '648630595257157098'}\n",
      "{'Time': '02:23', 'Track Title': 'Ayra Starr - Bloody Samaritan Dir. by Ayra Starr', 'Track ID': '1242595307597507113'}\n",
      "{'Time': '02:23', 'Track Title': 'Chop Daily x Eugy - My Touch', 'Track ID': '1513550318117973085'}\n",
      "{'Time': '02:23', 'Track Title': 'Fave - Mr Man (Audio)', 'Track ID': '611704633297286637'}\n",
      "{'Time': '02:20', 'Track Title': 'D-Block Europe - Ferrari Horses ft. Raye', 'Track ID': '810267521133078020'}\n",
      "{'Time': '02:16', 'Track Title': 'Official Clean DJ Khaled - EVERY CHANCE I GET (feat. Lil Baby Lil Durk)', 'Track ID': '360400158064801252'}\n",
      "{'Time': '02:13', 'Track Title': 'BackRoad Gee - Nyege Lewa Ft. Ms Banks', 'Track ID': '2124914094250016190'}\n",
      "{'Time': '02:10', 'Track Title': 'Oxlade - O2 ( Oxygene)', 'Track ID': '305846658424675240'}\n",
      "{'Time': '02:07', 'Track Title': 'Cheat Codes - Do It All Over (feat. Marc E. Bassy)', 'Track ID': '1152998456193454283'}\n",
      "{'Time': '02:04', 'Track Title': 'Aystar - Get In That Jeep Ft. Digga D Scousematic 3', 'Track ID': '738209908416981793'}\n",
      "{'Time': '02:00', 'Track Title': 'benny blanco Marshmello Vance Joy - You (Official Visualizer)', 'Track ID': '1188165312557624721'}\n",
      "{'Time': '01:57', 'Track Title': 'Tion Wayne x Russ Millions - Body 2 ft Arrdee 3x3E1 ZT Bugzy Malone Fivio Foreign Darkoo', 'Track ID': '1963189055843592338'}\n",
      "{'Time': '01:54', 'Track Title': 'Yxng Bane x Nafe Smallz x M Huncho- Dancing On Ice GRM Daily', 'Track ID': '395531724633030327'}\n",
      "{'Time': '01:51', 'Track Title': 'King Promise ft. Headie One - Ring My Line', 'Track ID': '1369188923702462774'}\n",
      "{'Time': '01:48', 'Track Title': 'J.Derobie Gold Up - Day Night Official Lyrics Video', 'Track ID': '1332280454922988574'}\n",
      "{'Time': '01:45', 'Track Title': 'Don t Clean - Bryson Tiller', 'Track ID': '666134831798028050'}\n",
      "{'Time': '01:40', 'Track Title': 'Reekado Banks - Ozumba Mbadiwe', 'Track ID': '305882035352020115'}\n",
      "{'Time': '01:37', 'Track Title': 'Xenia Manasseh - Lowkey', 'Track ID': '1530825802062537237'}\n",
      "{'Time': '01:34', 'Track Title': 'Katy Perry - Electric', 'Track ID': '2089711798305888194'}\n",
      "{'Time': '01:31', 'Track Title': 'Konshens X Davido-Boom Bang', 'Track ID': '1513286500857768757'}\n",
      "{'Time': '01:27', 'Track Title': 'Maroon 5 - Beautiful Mistakes ft. Megan Thee Stallion', 'Track ID': '216284949413964196'}\n",
      "{'Time': '01:24', 'Track Title': 'Mabel 24kGoldn - Overthinking', 'Track ID': '251416701459708205'}\n",
      "{'Time': '01:21', 'Track Title': 'Galantis x Throttle - Tell Me You Love Me', 'Track ID': '1170537471180084891'}\n",
      "{'Time': '01:17', 'Track Title': 'Oxlade - Hold On (Visualizer)', 'Track ID': '792728007575131387'}\n",
      "{'Time': '01:15', 'Track Title': 'Smallgod Ft Tiwa Savage Kwesi Arthur - Let Dem Kno', 'Track ID': '1548453276358880072'}\n",
      "{'Time': '01:11', 'Track Title': 'Tyla Yaweh - All The Smoke (Clean Lyrics) ft. Gunna Wiz Khalifa', 'Track ID': '504585689927075872'}\n",
      "{'Time': '01:08', 'Track Title': 'Don t Clean - Bryson Tiller', 'Track ID': '666134831798028050'}\n",
      "{'Time': '01:05', 'Track Title': 'Robin Schulz feat. KIDDO - All We Got', 'Track ID': '1009147133195343594'}\n",
      "{'Time': '01:02', 'Track Title': 'Karun - Clout Chaser', 'Track ID': '1945649813242983229'}\n",
      "{'Time': '00:59', 'Track Title': 'M.anifest - Game Over ft. Adekunle Gold', 'Track ID': '1513268976329909555'}\n",
      "{'Time': '00:55', 'Track Title': 'Wizkid ft Buju - Mood', 'Track ID': '360452986758954550'}\n",
      "{'Time': '00:52', 'Track Title': 'The Kid LAROI Justin Bieber - Stay', 'Track ID': '2161910364355139336'}\n",
      "{'Time': '00:49', 'Track Title': 'Sorana David Guetta - redruM', 'Track ID': '1819073949860878046'}\n",
      "{'Time': '00:46', 'Track Title': 'ArrDee Aitch - War', 'Track ID': '1513304172178560096'}\n",
      "{'Time': '00:42', 'Track Title': 'CLEAN Gunna - pushin P (feat. Future Young Thug)', 'Track ID': '1530861170816222150'}\n",
      "{'Time': '00:39', 'Track Title': 'KYLE - Optimistic (feat Dougie F)', 'Track ID': '1620510901518302452'}\n",
      "{'Time': '00:36', 'Track Title': 'Chiké - Hard to Find ft. Flavour', 'Track ID': '2107286797100599156'}\n",
      "{'Time': '00:33', 'Track Title': 'Birdman Roddy Ricch - STUNNAMAN (feat. Lil Wayne)', 'Track ID': '1819056271268971404'}\n",
      "{'Time': '00:31', 'Track Title': 'Fireboy DML Asake - Bandana', 'Track ID': '1620511007992505384'}\n",
      "{'Time': '00:28', 'Track Title': 'Raphael Lake Eric Brooks Camden Rose - In My Atmosphere (Virgin River OST)', 'Track ID': '2268993853124465206'}\n",
      "{'Time': '00:26', 'Track Title': 'Kizz Daniel - Pour Me Water', 'Track ID': '666134364759668160'}\n",
      "{'Time': '00:23', 'Track Title': 'Diamond Platnumz ft Focalistic Costa Titch Pabi Cooper - Fresh (', 'Track ID': '2269029313849538892'}\n"
     ]
    }
   ],
   "source": [
    "# Loop through the list of track details and print each track\n",
    "for track in track_list:\n",
    "    print(track)"
   ]
  },
  {
   "cell_type": "markdown",
   "metadata": {},
   "source": [
    "### Export Tracklist to csv"
   ]
  },
  {
   "cell_type": "code",
   "execution_count": 43,
   "metadata": {},
   "outputs": [
    {
     "name": "stdout",
     "output_type": "stream",
     "text": [
      "CSV file saved to reports/Full_Tracklist_2025-01-26_16:40:56.csv\n"
     ]
    }
   ],
   "source": [
    "import pandas as pd\n",
    "# Directory\n",
    "directory = 'reports'\n",
    "\n",
    "# Filename with timestamp\n",
    "timestamp = datetime.now().strftime('%Y-%m-%d_%H:%M:%S')\n",
    "filename = f'Full_Tracklist_{timestamp}.csv'\n",
    "file_path = os.path.join(directory, filename)\n",
    "\n",
    "# Ensure that the directory exists\n",
    "os.makedirs(directory, exist_ok=True)\n",
    "\n",
    "# Converting to Pandas df and saving\n",
    "df = pd.DataFrame(track_list)\n",
    "df.to_csv(file_path, index=False)\n",
    "\n",
    "print(f'CSV file saved to {file_path}')"
   ]
  },
  {
   "cell_type": "markdown",
   "metadata": {},
   "source": [
    "### Extract music from the last hour, two hours e.t.c"
   ]
  },
  {
   "cell_type": "markdown",
   "metadata": {},
   "source": [
    "#### a) First of all we need to get the time range for the whole tracklist"
   ]
  },
  {
   "cell_type": "code",
   "execution_count": 19,
   "metadata": {},
   "outputs": [],
   "source": [
    "from datetime import datetime\n",
    "\n",
    "def get_time_range(track_list):\n",
    "    \"\"\"\n",
    "    Get the earliest and latest times in the track list.\n",
    "    \n",
    "    :param track_list: List of dictionaries containing track details and times.\n",
    "    :return: Tuple of (earliest_time, latest_time) in 'HH:MM' format.\n",
    "    \"\"\"\n",
    "    earliest_time = None\n",
    "    latest_time = None\n",
    "\n",
    "    # Loop through the track list to check all times\n",
    "    for track in track_list:\n",
    "        track_time = track[\"Time\"]\n",
    "\n",
    "        # If track_time is 'Live', use the current time\n",
    "        if track_time == 'Live':\n",
    "            track_time = datetime.now().strftime(\"%H:%M\")\n",
    "\n",
    "        try:\n",
    "            # Convert track time to a datetime object\n",
    "            track_dt = datetime.strptime(track_time, \"%H:%M\")\n",
    "\n",
    "            # Update the earliest and latest times\n",
    "            if earliest_time is None or track_dt < earliest_time:\n",
    "                earliest_time = track_dt\n",
    "            if latest_time is None or track_dt > latest_time:\n",
    "                latest_time = track_dt\n",
    "        except ValueError:\n",
    "            # Skip tracks with invalid time data\n",
    "            print(f\"Skipping track with invalid time data: {track['Track Title']} ({track_time})\")\n",
    "\n",
    "    # Return the times in 'HH:MM' format\n",
    "    return earliest_time.strftime(\"%H:%M\") if earliest_time else None, latest_time.strftime(\"%H:%M\") if latest_time else None\n"
   ]
  },
  {
   "cell_type": "markdown",
   "metadata": {},
   "source": [
    "- Print the time range from fetched data"
   ]
  },
  {
   "cell_type": "code",
   "execution_count": 20,
   "metadata": {},
   "outputs": [
    {
     "name": "stdout",
     "output_type": "stream",
     "text": [
      "The time range for this tracklist is: ('01:24', '14:34')\n"
     ]
    }
   ],
   "source": [
    "print(f'The time range for this tracklist is: {get_time_range(track_list)}')"
   ]
  },
  {
   "cell_type": "markdown",
   "metadata": {},
   "source": [
    "### b) Filter tracks from the last x amount of hours"
   ]
  },
  {
   "cell_type": "code",
   "execution_count": 41,
   "metadata": {},
   "outputs": [],
   "source": [
    "from datetime import datetime, timedelta\n",
    "\n",
    "def get_recent_tracks(track_list, hours=1):\n",
    "    \"\"\"\n",
    "    Extracts tracks from the last 'hours' from the given track list.\n",
    "    \n",
    "    :param track_list: List of dictionaries with keys: \"Track Title\", \"Time\", \"Track ID\".\n",
    "    :param hours: Number of past hours to filter tracks (default: 1).\n",
    "    :return: Filtered list of track dictionaries.\n",
    "    \"\"\"\n",
    "    recent_tracks = []\n",
    "    current_time = datetime.now()\n",
    "    cutoff_time = current_time - timedelta(hours=hours)\n",
    "\n",
    "    for track in track_list:\n",
    "        track_title = track[\"Track Title\"]\n",
    "        track_time = track[\"Time\"]\n",
    "\n",
    "        # Handle \"Live\" as current time\n",
    "        if track_time == \"Live\":\n",
    "            track_time = current_time.strftime(\"%H:%M\")\n",
    "\n",
    "        try:\n",
    "            # Parse time without assuming the date\n",
    "            parsed_time = datetime.strptime(track_time, \"%H:%M\").time()\n",
    "            \n",
    "            # Create candidate datetime for today and yesterday\n",
    "            today_date = current_time.date()\n",
    "            candidate_dt_today = datetime.combine(today_date, parsed_time)\n",
    "            candidate_dt_yesterday = candidate_dt_today - timedelta(days=1)\n",
    "\n",
    "            # Check which candidate is within the cutoff window\n",
    "            if candidate_dt_today <= current_time and candidate_dt_today >= cutoff_time:\n",
    "                valid_dt = candidate_dt_today\n",
    "            elif candidate_dt_yesterday >= cutoff_time:\n",
    "                valid_dt = candidate_dt_yesterday\n",
    "            else:\n",
    "                continue  # Track is outside the window\n",
    "\n",
    "            recent_tracks.append({\n",
    "                \"Time\": track_time,\n",
    "                \"Track Title\": track_title,\n",
    "                \"Track ID\": track[\"Track ID\"]\n",
    "            })\n",
    "\n",
    "        except ValueError:\n",
    "            print(f\"Skipping invalid time format: {track_title} ({track_time})\")\n",
    "\n",
    "    return recent_tracks, hours"
   ]
  },
  {
   "cell_type": "markdown",
   "metadata": {},
   "source": [
    "- print tracks from the set period using the set time"
   ]
  },
  {
   "cell_type": "code",
   "execution_count": 35,
   "metadata": {},
   "outputs": [],
   "source": [
    "last_x_hours = 3 \n",
    "Recent_tracks = get_recent_tracks(track_list,hours = last_x_hours )"
   ]
  },
  {
   "cell_type": "markdown",
   "metadata": {},
   "source": [
    "- Save the output of the most tracks from the recent hours into a csv file"
   ]
  },
  {
   "cell_type": "code",
   "execution_count": 44,
   "metadata": {},
   "outputs": [
    {
     "name": "stdout",
     "output_type": "stream",
     "text": [
      "CSV file saved to reports/Recent_3H_tracks_2025-01-26_16:41:52.csv\n"
     ]
    }
   ],
   "source": [
    "# import pandas as pd\n",
    "# Directory\n",
    "directory = 'reports'\n",
    "\n",
    "# Filename with timestamp\n",
    "timestamp = datetime.now().strftime('%Y-%m-%d_%H:%M:%S')\n",
    "filename = f'Recent_{last_x_hours}H_tracks_{timestamp}.csv'\n",
    "file_path = os.path.join(directory, filename)\n",
    "\n",
    "# Ensure that the directory exists\n",
    "os.makedirs(directory, exist_ok=True)\n",
    "\n",
    "# Getting recent tracks (using only the list of tracks, not the tuple)\n",
    "recent_tracks, _ = get_recent_tracks(track_list, hours=last_x_hours)\n",
    "\n",
    "# Converting to Pandas df and saving\n",
    "df = pd.DataFrame(recent_tracks)\n",
    "df.to_csv(file_path, index=False)\n",
    "\n",
    "print(f'CSV file saved to {file_path}')"
   ]
  },
  {
   "cell_type": "markdown",
   "metadata": {},
   "source": [
    "#### b) Filter tracks from a date range start_time to end_time "
   ]
  },
  {
   "cell_type": "code",
   "execution_count": 46,
   "metadata": {},
   "outputs": [],
   "source": [
    "from datetime import datetime\n",
    "\n",
    "def get_tracks_in_range(track_list, start_time, end_time):\n",
    "    \"\"\"\n",
    "    Extracts tracks within a specific time range from the track list.\n",
    "    \n",
    "    :param track_list: List of dictionaries containing track details and times.\n",
    "    :param start_time: Start time in 'HH:MM' format.\n",
    "    :param end_time: End time in 'HH:MM' format.\n",
    "    :return: List of dictionaries with track details.\n",
    "    \"\"\"\n",
    "    tracks_in_range = []\n",
    "\n",
    "    # Convert start and end times to datetime objects\n",
    "    start_dt = datetime.strptime(start_time, \"%H:%M\")\n",
    "    end_dt = datetime.strptime(end_time, \"%H:%M\")\n",
    "\n",
    "    for track in track_list:\n",
    "        track_title = track[\"Track Title\"]\n",
    "        track_time = track[\"Time\"]\n",
    "\n",
    "        # Check if track_time is 'Live' (currently playing)\n",
    "        if track_time == 'Live':\n",
    "            track_time = datetime.now().strftime(\"%H:%M\")  # Convert 'Live' to current time in HH:MM format\n",
    "\n",
    "        try:\n",
    "            # Convert track time to a datetime object\n",
    "            track_dt = datetime.strptime(track_time, \"%H:%M\")\n",
    "\n",
    "            # Check if the track falls within the given time range\n",
    "            if start_dt <= track_dt <= end_dt:\n",
    "                tracks_in_range.append({\n",
    "                    \"Time\": track_time,\n",
    "                    \"Track Title\": track_title,\n",
    "                    \"Track ID\": track[\"Track ID\"]\n",
    "                })\n",
    "        except ValueError:\n",
    "            # Skip tracks with invalid time data\n",
    "            print(f\"Skipping track with invalid time data: {track_title} ({track_time})\")\n",
    "\n",
    "    return tracks_in_range"
   ]
  },
  {
   "cell_type": "markdown",
   "metadata": {},
   "source": [
    "- Initialize start_date and end_date"
   ]
  },
  {
   "cell_type": "code",
   "execution_count": 84,
   "metadata": {},
   "outputs": [
    {
     "data": {
      "text/plain": [
       "[{'Time': '09:59',\n",
       "  'Track Title': 'Not3s - Middle Of The Night',\n",
       "  'Track ID': '1116107799424933510'},\n",
       " {'Time': '09:55',\n",
       "  'Track Title': 'Doja Cat - Kiss Me More ft. SZA',\n",
       "  'Track ID': '1044050092266303947'},\n",
       " {'Time': '09:52',\n",
       "  'Track Title': 'City Girls Fivio Foreign - Top Notch',\n",
       "  'Track ID': '2017707347510678428'},\n",
       " {'Time': '09:50',\n",
       "  'Track Title': 'Crayon - Ijo (Laba Laba) Prod. by Sarz',\n",
       "  'Track ID': '827912656836869192'},\n",
       " {'Time': '09:46',\n",
       "  'Track Title': 'WizKid - Essence (Audio) ft. Tems',\n",
       "  'Track ID': '467624467706850916'},\n",
       " {'Time': '09:43',\n",
       "  'Track Title': 'KYLE - Optimistic (feat Dougie F)',\n",
       "  'Track ID': '1620510901518302452'},\n",
       " {'Time': '09:40',\n",
       "  'Track Title': 'Oxlade - Ojuju',\n",
       "  'Track ID': '323474196019600280'},\n",
       " {'Time': '09:40',\n",
       "  'Track Title': '21 Savage Metro Boomin - Runnin (Clean - Lyrics)',\n",
       "  'Track ID': '1746998679007075883'},\n",
       " {'Time': '09:37',\n",
       "  'Track Title': 'Doja Cat - Woman',\n",
       "  'Track ID': '1873556793272973589'},\n",
       " {'Time': '09:34',\n",
       "  'Track Title': 'Steel Banglez - Steel Banglez Fashion Week feat. AJ Tracey MoStack',\n",
       "  'Track ID': '1170572833495223199'},\n",
       " {'Time': '09:29',\n",
       "  'Track Title': 'Yxng Bane ft. WSTRN - Fine Wine (Remix) GRM Daily',\n",
       "  'Track ID': '899934666598389685'},\n",
       " {'Time': '09:26',\n",
       "  'Track Title': 'T-Pain & Kehlani - I Like Dat',\n",
       "  'Track ID': '233789201325125099'},\n",
       " {'Time': '09:24',\n",
       "  'Track Title': 'MIST feat Burna Boy - Rollin',\n",
       "  'Track ID': '1980834027270609897'},\n",
       " {'Time': '08:58',\n",
       "  'Track Title': 'Blueface Blxst - Chose Me',\n",
       "  'Track ID': '1297430446283151065'},\n",
       " {'Time': '08:55',\n",
       "  'Track Title': 'Dave Stormzy - Clash',\n",
       "  'Track ID': '1945737621074297053'},\n",
       " {'Time': '08:51',\n",
       "  'Track Title': 'Barnaba feat Diamond Platnumz - Hadithi',\n",
       "  'Track ID': '864768042706510405'},\n",
       " {'Time': '08:49',\n",
       "  'Track Title': 'Austin Millz - Always Be Remix',\n",
       "  'Track ID': '864768350222180849'},\n",
       " {'Time': '08:45',\n",
       "  'Track Title': 'Mary-J-Blige- Without You (Wallies Amapiano Remix)',\n",
       "  'Track ID': '94441134465316'},\n",
       " {'Time': '08:45',\n",
       "  'Track Title': 'Black Sherif - Kwaku The Traveller (Radio Clean)',\n",
       "  'Track ID': '1513251417634161738'},\n",
       " {'Time': '08:42',\n",
       "  'Track Title': 'Tory Lanez - It Doesn t Matter',\n",
       "  'Track ID': '233789331274810305'},\n",
       " {'Time': '08:39',\n",
       "  'Track Title': 'Justin Bieber - Red Eye (Visualizer) ft. TroyBoi',\n",
       "  'Track ID': '305864438147138645'},\n",
       " {'Time': '08:32',\n",
       "  'Track Title': 'Chunkz X Filly - Hold',\n",
       "  'Track ID': '899934842125741527'},\n",
       " {'Time': '08:28',\n",
       "  'Track Title': 'Chris Brown - Don t Check On Me (Audio) ft. Justin Bieber Ink',\n",
       "  'Track ID': '1801516617774150455'},\n",
       " {'Time': '08:24',\n",
       "  'Track Title': 'Lojay x Sarz - LV N ATTN ft. Wizkid',\n",
       "  'Track ID': '738227551449532586'},\n",
       " {'Time': '08:21',\n",
       "  'Track Title': 'Calvin Harris Dua Lipa Young Thug - Potion',\n",
       "  'Track ID': '1746998808420683773'},\n",
       " {'Time': '08:19',\n",
       "  'Track Title': 'OneRepublic - Sunshine',\n",
       "  'Track ID': '738191861748905677'},\n",
       " {'Time': '08:15',\n",
       "  'Track Title': 'Headie One - Everything Nice (feat. Haile) G46 GRIME',\n",
       "  'Track ID': '467589369385754801'},\n",
       " {'Time': '08:12',\n",
       "  'Track Title': 'Roddy Ricch Bacc Seat feat Ty Dolla $ign Clean',\n",
       "  'Track ID': '594076986769262272'},\n",
       " {'Time': '08:10',\n",
       "  'Track Title': 'Joeboy - Contour (Lyric Visualizer)',\n",
       "  'Track ID': '2269029366337962777'},\n",
       " {'Time': '08:03',\n",
       "  'Track Title': 'Bayanni - Ta Ta Ta (Official Lyric Audio)',\n",
       "  'Track ID': '1332315832514073544'},\n",
       " {'Time': '08:00',\n",
       "  'Track Title': 'Dave - Location (ft. Burna Boy)',\n",
       "  'Track ID': '1404372979520934454'},\n",
       " {'Time': '07:56',\n",
       "  'Track Title': 'Krept Konan - G Love ft. WizKid',\n",
       "  'Track ID': '2052856218139606791'},\n",
       " {'Time': '07:53',\n",
       "  'Track Title': 'Post Malone - Motley Crew',\n",
       "  'Track ID': '576572964710311335'},\n",
       " {'Time': '07:50',\n",
       "  'Track Title': 'MAANDY X BREEDER LW X NDOVU KUU - Sirudi Home Remix',\n",
       "  'Track ID': '1620545988943152047'},\n",
       " {'Time': '07:46',\n",
       "  'Track Title': 'Young T Bugsey - Nice ft. Blxst',\n",
       "  'Track ID': '1963171567013102855'},\n",
       " {'Time': '07:43',\n",
       "  'Track Title': '24kGoldn - Coco (Clean Lyrics) ft. DaBaby',\n",
       "  'Track ID': '377921972735235795'},\n",
       " {'Time': '07:39',\n",
       "  'Track Title': 'Oxlade - KU LO SA A COLORS SHOW',\n",
       "  'Track ID': '1297131434135397321'},\n",
       " {'Time': '07:36',\n",
       "  'Track Title': 'Major League Djz x Mathandos x Nvcho ft C4 Djs - BAKWA LAH',\n",
       "  'Track ID': '1098480266046170810'},\n",
       " {'Time': '07:33',\n",
       "  'Track Title': 'Yellow Claw - Baila Conmigo',\n",
       "  'Track ID': '1386728073994637716'},\n",
       " {'Time': '07:30',\n",
       "  'Track Title': 'Hardy Caprio - Under The Sun (Lyrics) feat. T Mulla',\n",
       "  'Track ID': '1116107847595107058'},\n",
       " {'Time': '06:29',\n",
       "  'Track Title': 'Timaya ft. Buju – Cold Outside',\n",
       "  'Track ID': '954365142434228702'},\n",
       " {'Time': '06:26',\n",
       "  'Track Title': 'VICTONY - PRAY )',\n",
       "  'Track ID': '1297113730004697619'},\n",
       " {'Time': '06:24',\n",
       "  'Track Title': 'Tion Wayne M24 - Knock Knock',\n",
       "  'Track ID': '467589451326955228'},\n",
       " {'Time': '06:19',\n",
       "  'Track Title': 'Robinson Jason Derulo - Ayo Girl (Fayahh Beat) ft. Rema',\n",
       "  'Track ID': '1188218178012727521'},\n",
       " {'Time': '06:16',\n",
       "  'Track Title': 'NSG - Petite',\n",
       "  'Track ID': '1404338106904874666'},\n",
       " {'Time': '06:13',\n",
       "  'Track Title': 'Sauti Sol - Nenda Lote SMS Skiza 9935647 to 811',\n",
       "  'Track ID': '1980798758327937719'},\n",
       " {'Time': '06:10',\n",
       "  'Track Title': 'Wale - Angles (feat. Chris Brown)',\n",
       "  'Track ID': '1008882804806885587'},\n",
       " {'Time': '06:06',\n",
       "  'Track Title': 'Imanse - Never in My Life (NIML)',\n",
       "  'Track ID': '1242595699006249637'},\n",
       " {'Time': '06:03',\n",
       "  'Track Title': 'POP SMOKE - FLEXING',\n",
       "  'Track ID': '1260257912930194509'},\n",
       " {'Time': '06:01',\n",
       "  'Track Title': 'Rotimi - Fiction (Audio) (feat. Busy Signal)',\n",
       "  'Track ID': '1674941276620580791'}]"
      ]
     },
     "execution_count": 84,
     "metadata": {},
     "output_type": "execute_result"
    }
   ],
   "source": [
    "start_time_x = '06:00'\n",
    "end_time_y = '10:00'\n",
    "get_tracks_in_range(track_list, start_time_x,end_time_y)"
   ]
  },
  {
   "cell_type": "markdown",
   "metadata": {},
   "source": [
    "- Save the outputs of the time range into a csv file"
   ]
  },
  {
   "cell_type": "code",
   "execution_count": null,
   "metadata": {},
   "outputs": [
    {
     "name": "stdout",
     "output_type": "stream",
     "text": [
      "CSV file saved to reports/Time_range_06:00-10:00H_tracks_2025-01-26_19:14:41.csv\n"
     ]
    }
   ],
   "source": [
    "# import pandas as pd\n",
    "# Directory\n",
    "directory = 'reports'\n",
    "\n",
    "# Filename with timestamp\n",
    "timestamp = datetime.now().strftime('%Y-%m-%d_%H:%M:%S')\n",
    "filename = f'Time_range_{start_time_x}-{end_time_y}H_tracks_{timestamp}.csv'\n",
    "file_path = os.path.join(directory, filename)\n",
    "\n",
    "# Ensure that the directory exists\n",
    "os.makedirs(directory, exist_ok=True)\n",
    "\n",
    "# Getting recent tracks (usin# import pandas as pd\n",
    "# Directory\n",
    "directory = 'reports'\n",
    "\n",
    "# Filename with timestamp\n",
    "timestamp = datetime.now().strftime('%Y-%m-%d_%H:%M:%S')\n",
    "filename = f'Time_range_{start_time_x}-{end_time_y}H_tracks_{timestamp}.csv'\n",
    "file_path = os.path.join(directory, filename)\n",
    "\n",
    "# Ensure that the directory exists\n",
    "os.makedirs(directory, exist_ok=True)\n",
    "\n",
    "# Getting recent tracks (using only the list of tracks, not the tuple)\n",
    "time_range_tracks = get_tracks_in_range(track_list, start_time_x,end_time_y)\n",
    "\n",
    "# Converting to Pandas df and saving\n",
    "df = pd.DataFrame(time_range_tracks)\n",
    "df.to_csv(file_path, index=False)\n",
    "\n",
    "# print(f'CSV file saved to {file_path}') only the list of tracks, not the tuple)\n",
    "time_range_tracks = get_tracks_in_range(track_list, start_time_x,end_time_y)\n",
    "\n",
    "# Converting to Pandas df and saving\n",
    "df = pd.DataFrame(time_range_tracks)\n",
    "df.to_csv(file_path, index=False)\n",
    "\n",
    "print(f'CSV file saved to {file_path}')"
   ]
  },
  {
   "cell_type": "markdown",
   "metadata": {},
   "source": [
    "### Spotify’s search API expects a query in this format: 'https://api.spotify.com/v1/search?q=<query>&type=track'\n"
   ]
  },
  {
   "cell_type": "code",
   "execution_count": 87,
   "metadata": {},
   "outputs": [],
   "source": [
    "import re\n",
    "# clean the title\n",
    "def clean_title(title):\n",
    "    \"\"\"Remove noise like (Lyrics), codes, etc.\"\"\"\n",
    "    title = re.sub(r'\\([^)]*\\)|\\b\\d+.*$', '', title)  # Remove () content and codes\n",
    "    title = re.sub(r'\\s+', ' ', title).strip()\n",
    "    return title\n",
    "\n",
    "# Parsing the track_list to a spotify query\n",
    "def parse_tracklist_to_spotify_query(track_list):\n",
    "    spotify_queries = []\n",
    "    for track in track_list:\n",
    "        track_title = track.get(\"Track Title\", \"Unknown Title\")\n",
    "        artist = track.get(\"Artist\", \"\").strip()\n",
    "\n",
    "        # Clean the title first\n",
    "        track_title = clean_title(track_title)\n",
    "\n",
    "        # Extract artist from title if missing\n",
    "        if not artist:\n",
    "            # Split by common delimiters (e.g., \" - \", \"feat\", \"ft\", \"&\")\n",
    "            parts = re.split(r'\\s+[-–—]+\\s+| feat\\b| ft\\b| & |/', track_title, flags=re.IGNORECASE)\n",
    "            possible_artist = parts[0].strip() if parts else \"Unknown Artist\"\n",
    "            # Allow apostrophes, hyphens, and & in artist names\n",
    "            possible_artist = re.sub(r'[^a-zA-Z\\s\\'\\-&]', '', possible_artist)\n",
    "            artist = possible_artist if possible_artist else \"Unknown Artist\"\n",
    "\n",
    "        # Extract featured artists from title (e.g., \"Song (feat. Artist)\")\n",
    "        featured = re.findall(r'\\(feat[.\\s]*([^)]+)\\)', track_title, re.IGNORECASE)\n",
    "        if featured:\n",
    "            featured_artist = re.sub(r'[^a-zA-Z\\s\\'\\-&]', '', featured[0].strip())\n",
    "            artist += f\", {featured_artist}\"\n",
    "\n",
    "        # Final cleanup\n",
    "        artist = re.sub(r'\\s+', ' ', artist).strip()\n",
    "        query = f\"track:{track_title} artist:{artist}\"\n",
    "        spotify_queries.append(query)\n",
    "\n",
    "    return spotify_queries"
   ]
  },
  {
   "cell_type": "code",
   "execution_count": 89,
   "metadata": {},
   "outputs": [
    {
     "name": "stdout",
     "output_type": "stream",
     "text": [
      "['track:Not3s - Middle Of The Night artist:Nots', 'track:Doja Cat - Kiss Me More ft. SZA artist:Doja Cat', 'track:City Girls Fivio Foreign - Top Notch artist:City Girls Fivio Foreign', 'track:Crayon - Ijo Prod. by Sarz artist:Crayon', 'track:WizKid - Essence ft. Tems artist:WizKid', 'track:KYLE - Optimistic artist:KYLE', 'track:Oxlade - Ojuju artist:Oxlade', 'track: artist:Unknown Artist', 'track:Doja Cat - Woman artist:Doja Cat', 'track:Steel Banglez - Steel Banglez Fashion Week feat. AJ Tracey MoStack artist:Steel Banglez', 'track:Yxng Bane ft. WSTRN - Fine Wine GRM Daily artist:Yxng Bane', 'track:T-Pain & Kehlani - I Like Dat artist:T-Pain', 'track:MIST feat Burna Boy - Rollin artist:MIST', 'track:Blueface Blxst - Chose Me artist:Blueface Blxst', 'track:Dave Stormzy - Clash artist:Dave Stormzy', 'track:Barnaba feat Diamond Platnumz - Hadithi artist:Barnaba', 'track:Austin Millz - Always Be Remix artist:Austin Millz', 'track:Mary-J-Blige- Without You artist:Mary-J-Blige- Without You', 'track:Black Sherif - Kwaku The Traveller artist:Black Sherif', 'track:Tory Lanez - It Doesn t Matter artist:Tory Lanez', 'track:Justin Bieber - Red Eye ft. TroyBoi artist:Justin Bieber', 'track:Chunkz X Filly - Hold artist:Chunkz X Filly', 'track:Chris Brown - Don t Check On Me ft. Justin Bieber Ink artist:Chris Brown', 'track:Lojay x Sarz - LV N ATTN ft. Wizkid artist:Lojay x Sarz', 'track:Calvin Harris Dua Lipa Young Thug - Potion artist:Calvin Harris Dua Lipa Young Thug', 'track:OneRepublic - Sunshine artist:OneRepublic', 'track:Headie One - Everything Nice G46 GRIME artist:Headie One', 'track:Roddy Ricch Bacc Seat feat Ty Dolla $ign Clean artist:Roddy Ricch Bacc Seat', 'track:Joeboy - Contour artist:Joeboy', 'track:Bayanni - Ta Ta Ta artist:Bayanni', 'track:Dave - Location artist:Dave', 'track:Krept Konan - G Love ft. WizKid artist:Krept Konan', 'track:Post Malone - Motley Crew artist:Post Malone', 'track:MAANDY X BREEDER LW X NDOVU KUU - Sirudi Home Remix artist:MAANDY X BREEDER LW X NDOVU KUU', 'track:Young T Bugsey - Nice ft. Blxst artist:Young T Bugsey', 'track: artist:Unknown Artist', 'track:Oxlade - KU LO SA A COLORS SHOW artist:Oxlade', 'track:Major League Djz x Mathandos x Nvcho ft C4 Djs - BAKWA LAH artist:Major League Djz x Mathandos x Nvcho', 'track:Yellow Claw - Baila Conmigo artist:Yellow Claw', 'track:Hardy Caprio - Under The Sun feat. T Mulla artist:Hardy Caprio', 'track:Timaya ft. Buju – Cold Outside artist:Timaya', 'track:VICTONY - PRAY ) artist:VICTONY', 'track:Tion Wayne M24 - Knock Knock artist:Tion Wayne M', 'track:Robinson Jason Derulo - Ayo Girl ft. Rema artist:Robinson Jason Derulo', 'track:NSG - Petite artist:NSG', 'track:Sauti Sol - Nenda Lote SMS Skiza artist:Sauti Sol', 'track:Wale - Angles artist:Wale', 'track:Imanse - Never in My Life artist:Imanse', 'track:POP SMOKE - FLEXING artist:POP SMOKE', 'track:Rotimi - Fiction artist:Rotimi']\n"
     ]
    }
   ],
   "source": [
    "raw_data = parse_tracklist_to_spotify_query(time_range_tracks)\n",
    "print(raw_data)"
   ]
  },
  {
   "cell_type": "code",
   "execution_count": 90,
   "metadata": {},
   "outputs": [
    {
     "name": "stdout",
     "output_type": "stream",
     "text": [
      "track:Not3s - Middle Of The Night artist:Nots\n",
      "track:Doja Cat - Kiss Me More ft. SZA artist:Doja Cat\n",
      "track:City Girls Fivio Foreign - Top Notch artist:City Girls Fivio Foreign\n",
      "track:Crayon - Ijo Prod. by Sarz artist:Crayon\n",
      "track:WizKid - Essence ft. Tems artist:WizKid\n",
      "track:KYLE - Optimistic artist:KYLE\n",
      "track:Oxlade - Ojuju artist:Oxlade\n",
      "track: artist:Unknown Artist\n",
      "track:Doja Cat - Woman artist:Doja Cat\n",
      "track:Steel Banglez - Steel Banglez Fashion Week feat. AJ Tracey MoStack artist:Steel Banglez\n",
      "track:Yxng Bane ft. WSTRN - Fine Wine GRM Daily artist:Yxng Bane\n",
      "track:T-Pain & Kehlani - I Like Dat artist:T-Pain\n",
      "track:MIST feat Burna Boy - Rollin artist:MIST\n",
      "track:Blueface Blxst - Chose Me artist:Blueface Blxst\n",
      "track:Dave Stormzy - Clash artist:Dave Stormzy\n",
      "track:Barnaba feat Diamond Platnumz - Hadithi artist:Barnaba\n",
      "track:Austin Millz - Always Be Remix artist:Austin Millz\n",
      "track:Mary-J-Blige- Without You artist:Mary-J-Blige- Without You\n",
      "track:Black Sherif - Kwaku The Traveller artist:Black Sherif\n",
      "track:Tory Lanez - It Doesn t Matter artist:Tory Lanez\n",
      "track:Justin Bieber - Red Eye ft. TroyBoi artist:Justin Bieber\n",
      "track:Chunkz X Filly - Hold artist:Chunkz X Filly\n",
      "track:Chris Brown - Don t Check On Me ft. Justin Bieber Ink artist:Chris Brown\n",
      "track:Lojay x Sarz - LV N ATTN ft. Wizkid artist:Lojay x Sarz\n",
      "track:Calvin Harris Dua Lipa Young Thug - Potion artist:Calvin Harris Dua Lipa Young Thug\n",
      "track:OneRepublic - Sunshine artist:OneRepublic\n",
      "track:Headie One - Everything Nice G46 GRIME artist:Headie One\n",
      "track:Roddy Ricch Bacc Seat feat Ty Dolla $ign Clean artist:Roddy Ricch Bacc Seat\n",
      "track:Joeboy - Contour artist:Joeboy\n",
      "track:Bayanni - Ta Ta Ta artist:Bayanni\n",
      "track:Dave - Location artist:Dave\n",
      "track:Krept Konan - G Love ft. WizKid artist:Krept Konan\n",
      "track:Post Malone - Motley Crew artist:Post Malone\n",
      "track:MAANDY X BREEDER LW X NDOVU KUU - Sirudi Home Remix artist:MAANDY X BREEDER LW X NDOVU KUU\n",
      "track:Young T Bugsey - Nice ft. Blxst artist:Young T Bugsey\n",
      "track: artist:Unknown Artist\n",
      "track:Oxlade - KU LO SA A COLORS SHOW artist:Oxlade\n",
      "track:Major League Djz x Mathandos x Nvcho ft C4 Djs - BAKWA LAH artist:Major League Djz x Mathandos x Nvcho\n",
      "track:Yellow Claw - Baila Conmigo artist:Yellow Claw\n",
      "track:Hardy Caprio - Under The Sun feat. T Mulla artist:Hardy Caprio\n",
      "track:Timaya ft. Buju – Cold Outside artist:Timaya\n",
      "track:VICTONY - PRAY ) artist:VICTONY\n",
      "track:Tion Wayne M24 - Knock Knock artist:Tion Wayne M\n",
      "track:Robinson Jason Derulo - Ayo Girl ft. Rema artist:Robinson Jason Derulo\n",
      "track:NSG - Petite artist:NSG\n",
      "track:Sauti Sol - Nenda Lote SMS Skiza artist:Sauti Sol\n",
      "track:Wale - Angles artist:Wale\n",
      "track:Imanse - Never in My Life artist:Imanse\n",
      "track:POP SMOKE - FLEXING artist:POP SMOKE\n",
      "track:Rotimi - Fiction artist:Rotimi\n"
     ]
    }
   ],
   "source": [
    "for x in raw_data:\n",
    "    print(x)"
   ]
  },
  {
   "cell_type": "code",
   "execution_count": 91,
   "metadata": {},
   "outputs": [],
   "source": [
    "import re\n",
    "from thefuzz import fuzz, process\n",
    "import spotipy\n",
    "from spotipy.oauth2 import SpotifyOAuth\n",
    "import unicodedata\n",
    "import logging\n",
    "\n",
    "\n",
    "import os\n",
    "from dotenv import load_dotenv\n",
    "\n",
    "# Load environment variables\n",
    "load_dotenv()\n",
    "\n",
    "# Set up Spotify authentication\n",
    "sp = spotipy.Spotify(auth_manager=SpotifyOAuth(\n",
    "    client_id=os.getenv(\"SPOTIFY_CLIENT_ID\"),\n",
    "    client_secret=os.getenv(\"SPOTIFY_CLIENT_SECRET\"),\n",
    "    redirect_uri=\"http://localhost:8080/callback\",\n",
    "    scope=\"playlist-modify-public\"\n",
    "))\n",
    "\n",
    "class SpotifyTrackMatcher:\n",
    "    def __init__(self, sp_client):\n",
    "        \"\"\"\n",
    "        Initialize the Spotify Track Matcher with enhanced search capabilities.\n",
    "        \n",
    "        :param sp_client: Authenticated Spotify client\n",
    "        \"\"\"\n",
    "        self.sp = sp_client\n",
    "        self.logger = logging.getLogger(__name__)\n",
    "        logging.basicConfig(level=logging.INFO)\n",
    "\n",
    "    def normalize_text(self, text):\n",
    "        \"\"\"\n",
    "        Comprehensive text normalization:\n",
    "        1. Convert to lowercase\n",
    "        2. Remove diacritical marks\n",
    "        3. Remove extra whitespaces\n",
    "        4. Handle special characters\n",
    "        \n",
    "        :param text: Input text to normalize\n",
    "        :return: Normalized text\n",
    "        \"\"\"\n",
    "        # Remove diacritical marks\n",
    "        text = unicodedata.normalize('NFKD', text).encode('ASCII', 'ignore').decode('ASCII')\n",
    "        \n",
    "        # Lowercase and remove extra spaces\n",
    "        return re.sub(r'\\s+', ' ', text.lower()).strip()\n",
    "\n",
    "    def extract_canonical_features(self, title):\n",
    "        \"\"\"\n",
    "        Extract canonical features from track title:\n",
    "        1. Remove parenthetical info \n",
    "        2. Remove common words\n",
    "        3. Extract core title elements\n",
    "        \n",
    "        :param title: Original track title\n",
    "        :return: Canonical title features\n",
    "        \"\"\"\n",
    "        # Remove parenthetical content and metadata\n",
    "        title = re.sub(r'\\(.*?\\)|\\[.*?\\]', '', title)\n",
    "        \n",
    "        # Remove common words and prefixes\n",
    "        title = re.sub(r'\\b(the|a|an|remix|remaster|live)\\b', '', title, flags=re.IGNORECASE)\n",
    "        \n",
    "        return self.normalize_text(title)\n",
    "\n",
    "    def advanced_artist_matching(self, track_candidates, search_artist):\n",
    "        \"\"\"\n",
    "        Advanced artist matching with multiple strategies:\n",
    "        1. Full artist name match\n",
    "        2. Partial artist name match\n",
    "        3. Multiple artist combinations\n",
    "        \n",
    "        :param track_candidates: List of track candidates\n",
    "        :param search_artist: Artist search string\n",
    "        :return: Best matching track\n",
    "        \"\"\"\n",
    "        normalized_search_artist = self.normalize_text(search_artist)\n",
    "        \n",
    "        # Split potential multiple artists\n",
    "        potential_artists = re.split(r'[&,x]|\\bft\\.|\\bfeat\\.', search_artist, flags=re.IGNORECASE)\n",
    "        potential_artists = [self.normalize_text(artist.strip()) for artist in potential_artists]\n",
    "        \n",
    "        best_match = None\n",
    "        best_score = 0\n",
    "        \n",
    "        for track in track_candidates:\n",
    "            # Extract track artists\n",
    "            track_artists = [self.normalize_text(artist['name']) for artist in track['artists']]\n",
    "            \n",
    "            # Score calculation with multiple strategies\n",
    "            artist_match_score = max([\n",
    "                max([fuzz.ratio(pa, ta) for ta in track_artists]) \n",
    "                for pa in potential_artists\n",
    "            ])\n",
    "            \n",
    "            # Weighted scoring\n",
    "            track_score = (\n",
    "                0.6 * artist_match_score + \n",
    "                0.4 * fuzz.ratio(\n",
    "                    self.extract_canonical_features(track['name']),\n",
    "                    self.extract_canonical_features(search_artist)\n",
    "                )\n",
    "            )\n",
    "            \n",
    "            if track_score > best_score:\n",
    "                best_score = track_score\n",
    "                best_match = track\n",
    "        \n",
    "        # Confidence threshold\n",
    "        return best_match if best_score > 70 else None\n",
    "\n",
    "    def search_track(self, title, artist, max_results=20):\n",
    "        \"\"\"\n",
    "        Comprehensive track search with multiple fallback strategies\n",
    "        \n",
    "        :param title: Track title\n",
    "        :param artist: Artist name\n",
    "        :param max_results: Maximum search results to consider\n",
    "        :return: Best matching track URI or None\n",
    "        \"\"\"\n",
    "        # Normalize inputs\n",
    "        normalized_title = self.normalize_text(title)\n",
    "        normalized_artist = self.normalize_text(artist)\n",
    "        \n",
    "        # Search strategies in order of specificity\n",
    "        search_strategies = [\n",
    "            f\"track:{title} artist:{artist}\",  # Most specific\n",
    "            f\"track:{normalized_title}\",       # Title-only fallback\n",
    "            f\"artist:{normalized_artist}\"      # Artist-only fallback\n",
    "        ]\n",
    "        \n",
    "        for strategy in search_strategies:\n",
    "            try:\n",
    "                results = self.sp.search(q=strategy, type='track', limit=max_results)\n",
    "                track_candidates = results['tracks']['items']\n",
    "                \n",
    "                if track_candidates:\n",
    "                    # Advanced matching\n",
    "                    best_match = self.advanced_artist_matching(track_candidates, artist)\n",
    "                    \n",
    "                    if best_match:\n",
    "                        self.logger.info(f\"Matched: {best_match['name']} - {best_match['artists'][0]['name']}\")\n",
    "                        return best_match['uri']\n",
    "            \n",
    "            except Exception as e:\n",
    "                self.logger.error(f\"Search error with strategy {strategy}: {e}\")\n",
    "        \n",
    "        self.logger.warning(f\"No match found for {title} by {artist}\")\n",
    "        return None\n",
    "\n",
    "def parse_and_match_spotify(sp_client, raw_data):\n",
    "    \"\"\"\n",
    "    Process multiple tracks with enhanced matching\n",
    "    \n",
    "    :param sp_client: Spotify client\n",
    "    :param raw_data: Raw track data\n",
    "    :return: List of matched track URIs\n",
    "    \"\"\"\n",
    "    matcher = SpotifyTrackMatcher(sp_client)\n",
    "    uris = []\n",
    "    \n",
    "    for entry in raw_data:\n",
    "        try:\n",
    "            # Split and clean entry similar to original implementation\n",
    "            title, artist = parse_entry(entry)\n",
    "            \n",
    "            uri = matcher.search_track(title, artist)\n",
    "            if uri:\n",
    "                uris.append(uri)\n",
    "        \n",
    "        except Exception as e:\n",
    "            matcher.logger.error(f\"Error processing entry {entry}: {e}\")\n",
    "    \n",
    "    return uris\n",
    "\n",
    "def parse_entry(entry):\n",
    "    \"\"\"\n",
    "    Parse raw entry into title and artist\n",
    "    \n",
    "    :param entry: Raw track entry\n",
    "    :return: Tuple of (title, artist)\n",
    "    \"\"\"\n",
    "    # Implement similar parsing logic to original code\n",
    "    # This is a placeholder and should match your specific input format\n",
    "    parts = entry.split(\"artist:\")\n",
    "    title = parts[0].replace(\"track:\", \"\").strip()\n",
    "    artist = parts[1].strip() if len(parts) > 1 else \"Unknown\"\n",
    "    \n",
    "    return title, artist\n"
   ]
  },
  {
   "cell_type": "code",
   "execution_count": 92,
   "metadata": {},
   "outputs": [
    {
     "name": "stderr",
     "output_type": "stream",
     "text": [
      "INFO:__main__:Matched: Boasy - Avelino\n",
      "INFO:__main__:Matched: You Right - Doja Cat\n",
      "WARNING:__main__:No match found for City Girls Fivio Foreign - Top Notch by City Girls Fivio Foreign\n",
      "INFO:__main__:Matched: Trabaye - VASA\n",
      "INFO:__main__:Matched: This Kind Luv - Patoranking\n",
      "WARNING:__main__:No match found for KYLE - Optimistic by KYLE\n",
      "WARNING:__main__:No match found for Oxlade - Ojuju by Oxlade\n",
      "INFO:__main__:Matched: Unknown Track - Unknown Artist\n",
      "INFO:__main__:Matched: You Right - Doja Cat\n",
      "INFO:__main__:Matched: Banglez Ting (feat. Giggs) - Steel Banglez\n",
      "INFO:__main__:Matched: Shape of You - Yxng Bane Remix - Ed Sheeran\n",
      "INFO:__main__:Matched: Up Down (Do This All Day) (feat. B.o.B) - T-Pain\n",
      "INFO:__main__:Matched: Fisherman (feat. MoStack & MIST) - J Hus\n",
      "WARNING:__main__:No match found for Blueface Blxst - Chose Me by Blueface Blxst\n",
      "WARNING:__main__:No match found for Dave Stormzy - Clash by Dave Stormzy\n",
      "INFO:__main__:Matched: Nampenda - Barnaba\n",
      "INFO:__main__:Matched: Always Be My Baby - Austin Millz Remix - Mariah Carey\n",
      "WARNING:__main__:No match found for Mary-J-Blige- Without You by Mary-J-Blige- Without You\n",
      "INFO:__main__:Matched: Rebel Music - Black Sherif\n",
      "INFO:__main__:Matched: The Color Violet - Tory Lanez\n",
      "INFO:__main__:Matched: Beauty And A Beat - Justin Bieber\n",
      "WARNING:__main__:No match found for Chunkz X Filly - Hold by Chunkz X Filly\n",
      "INFO:__main__:Matched: Body On Me ft. Chris Brown - Rita Ora\n",
      "INFO:__main__:Matched: Park O X3 - Lojay\n",
      "WARNING:__main__:No match found for Calvin Harris Dua Lipa Young Thug - Potion by Calvin Harris Dua Lipa Young Thug\n",
      "INFO:__main__:Matched: If I Lose Myself - Alesso vs OneRepublic - OneRepublic\n",
      "INFO:__main__:Matched: The One - Headie One\n",
      "WARNING:__main__:No match found for Roddy Ricch Bacc Seat feat Ty Dolla $ign Clean by Roddy Ricch Bacc Seat\n",
      "INFO:__main__:Matched: Nobody - DJ Neptune\n",
      "INFO:__main__:Matched: Bukhaar - Aroob Khan\n",
      "INFO:__main__:Matched: Verdansk - Dave\n",
      "INFO:__main__:Matched: Nala's Song - Krept Solo - Krept & Konan\n",
      "INFO:__main__:Matched: Go Flex - Post Malone\n",
      "WARNING:__main__:No match found for MAANDY X BREEDER LW X NDOVU KUU - Sirudi Home Remix by MAANDY X BREEDER LW X NDOVU KUU\n",
      "INFO:__main__:Matched: Don't Rush (feat. Headie One) - Young T & Bugsey\n",
      "INFO:__main__:Matched: Unknown Track - Unknown Artist\n",
      "WARNING:__main__:No match found for Oxlade - KU LO SA A COLORS SHOW by Oxlade\n",
      "WARNING:__main__:No match found for Major League Djz x Mathandos x Nvcho ft C4 Djs - BAKWA LAH by Major League Djz x Mathandos x Nvcho\n",
      "INFO:__main__:Matched: Love & War - Yellow Claw G-Funk Remix - Yellow Claw\n",
      "INFO:__main__:Matched: Something New - Dolapo x Hardy Caprio - Dolapo\n",
      "INFO:__main__:Matched: IN MY HEAD - Timaya\n",
      "INFO:__main__:Matched: Stubborn - Victony\n",
      "INFO:__main__:Matched: Night Away (Dance) (feat. Tion Wayne) - A1 x J1\n",
      "WARNING:__main__:No match found for Robinson Jason Derulo - Ayo Girl ft. Rema by Robinson Jason Derulo\n",
      "INFO:__main__:Matched: Nyash (Current & Savings) - NSG\n",
      "INFO:__main__:Matched: Still the one - Sauti Sol\n",
      "INFO:__main__:Matched: My Love (feat. Major Lazer, WizKid, Dua Lipa) - Wale\n",
      "INFO:__main__:Matched: Cruise - Imanse\n",
      "INFO:__main__:Matched: Got It On Me - Pop Smoke\n",
      "INFO:__main__:Matched: Polaroid (feat. Yung Bleu) - Rotimi\n"
     ]
    },
    {
     "name": "stdout",
     "output_type": "stream",
     "text": [
      "\n",
      "A total of 37 out of the 50 played on Radio were matched on Spotify. \n",
      "That's 74.00% of the songs.\n",
      "\n"
     ]
    }
   ],
   "source": [
    "track_uris = parse_and_match_spotify(sp, raw_data)\n",
    "print(f\"\\nA total of {\n",
    "    len(track_uris)} out of the {len(raw_data)} played on Radio were matched on Spotify. \\nThat's {\n",
    "        len(track_uris)/len(raw_data)*100:.2F}% of the songs.\\n\")\n",
    "# print(\"Matched URIs:\", track_uris)"
   ]
  },
  {
   "cell_type": "markdown",
   "metadata": {},
   "source": [
    "- Save matched tracks to csv file"
   ]
  },
  {
   "cell_type": "code",
   "execution_count": 93,
   "metadata": {},
   "outputs": [
    {
     "name": "stdout",
     "output_type": "stream",
     "text": [
      "CSV file saved to reports/Matched_Spotify_tracks_2025-01-26_19:18:33.csv\n"
     ]
    }
   ],
   "source": [
    "# import os\n",
    "# import pandas as pd\n",
    "# from datetime import datetime\n",
    "\n",
    "# Directory\n",
    "directory = 'reports'\n",
    "\n",
    "# Filename with timestamp\n",
    "timestamp = datetime.now().strftime('%Y-%m-%d_%H:%M:%S')\n",
    "filename = f'Matched_Spotify_tracks_{timestamp}.csv'\n",
    "file_path = os.path.join(directory, filename)\n",
    "\n",
    "# Ensure that the directory exists\n",
    "os.makedirs(directory, exist_ok=True)\n",
    "\n",
    "# Convert the list of queries into a DataFrame\n",
    "df = pd.DataFrame(track_uris, columns=[\"Spotify Query\"])\n",
    "\n",
    "# Save the DataFrame to a CSV file\n",
    "df.to_csv(file_path, index=False)\n",
    "\n",
    "print(f'CSV file saved to {file_path}')"
   ]
  },
  {
   "cell_type": "code",
   "execution_count": null,
   "metadata": {},
   "outputs": [
    {
     "name": "stdout",
     "output_type": "stream",
     "text": [
      "Playlist 'Hits Radio2025-01-26_18:16:09' created with 52 tracks!\n"
     ]
    }
   ],
   "source": [
    "# Create a new playlist\n",
    "playlist_name = f\"Hits Radio {timestamp}\"\n",
    "user_id = sp.me()['id']\n",
    "playlist = sp.user_playlist_create(user_id, playlist_name, public=True)\n",
    "\n",
    "# Add tracks to the playlist\n",
    "sp.playlist_add_items(playlist['uri'], track_uris)\n",
    "\n",
    "print(f\"Playlist {playlist_name} created with {len(track_uris)} tracks!\")"
   ]
  },
  {
   "cell_type": "code",
   "execution_count": 94,
   "metadata": {},
   "outputs": [
    {
     "name": "stdout",
     "output_type": "stream",
     "text": [
      "Playlist 'Hits Radio - Morning 2025-01-26_19:18:56' created with 37 tracks!\n"
     ]
    }
   ],
   "source": [
    "# Create a new playlist with a description\n",
    "timestamp = datetime.now().strftime('%Y-%m-%d_%H:%M:%S')\n",
    "playlist_name = f\"Hits Radio - Morning {timestamp}\"\n",
    "playlist_description = \"A curated list of the latest hits on played on Hits Radio from 6-10am everyday, by David Kibet.\"\n",
    "\n",
    "# Get the user ID\n",
    "user_id = sp.me()['id']\n",
    "\n",
    "# Create the playlist with a description\n",
    "playlist = sp.user_playlist_create(user_id, playlist_name, public=True, description=playlist_description)\n",
    "\n",
    "# Add tracks to the playlist\n",
    "sp.playlist_add_items(playlist['uri'], track_uris)\n",
    "\n",
    "print(f\"Playlist '{playlist_name}' created with {len(track_uris)} tracks!\")\n"
   ]
  }
 ],
 "metadata": {
  "kernelspec": {
   "display_name": "venv",
   "language": "python",
   "name": "python3"
  },
  "language_info": {
   "codemirror_mode": {
    "name": "ipython",
    "version": 3
   },
   "file_extension": ".py",
   "mimetype": "text/x-python",
   "name": "python",
   "nbconvert_exporter": "python",
   "pygments_lexer": "ipython3",
   "version": "3.12.7"
  }
 },
 "nbformat": 4,
 "nbformat_minor": 2
}
